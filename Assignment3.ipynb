{
 "cells": [
  {
   "cell_type": "markdown",
   "metadata": {},
   "source": [
    "# Assignment 3 - more pitching#\n",
    "#### CSCI 4831 - Sabermetrics ####\n",
    "#### Instructor: Hoenigman ####\n",
    "#### Due: Wednesday, March 6 by 3pm ####\n",
    "\n",
    "**Use any of the datasets we've learned about so far to complete this assignment.** \n",
    "\n",
    "**Submit your notebook to the Assignment 3 link on Canvas. Include all csv files that you generate with your submission.**\n",
    "\n",
    "## Pitching ###\n",
    "In Assignment 2, you evaluated 5 Rockies pitchers by comparing pitch selection and movement of their pitches at home and away. In this next assignment, you will also evaluate pitchers in different environments or at different times. The specifics of how you do that are up to you. Your assignment needs to fulfill the following high-level objectives.\n",
    "\n",
    "### 1. Pitchers to compare ###\n",
    "(10 pts) You need pitchers that you will compare. Examples include groups of pitchers compared to other groups, an individual pitcher compared to another individual, or one pitcher compared to himself at different times in his career. \n",
    "\n",
    "### 2. Reason for your comparison ###\n",
    "(10 pts) You need to have a reason for why you think the comparison is meaningful. For example, you might compare the star pitcher from a hitters park to the star pitcher at a pitchers park. This comparison could be meaningful to evaluate the effect of the run-scoring environment on their approach to pitching. A comparison that wouldn't be meaningful is average pitcher A compared to average pitcher B, both on average teams. That's not a result that anyone would care about. \n",
    "\n",
    "### 3. Basis for comparison ###\n",
    "(30 pts) You need to describe how the pitchers will be compared and then implement your comparison. Examples of comparison include pitch movement and selection, BABIP, BABIP on specific pitches, OBP in different environments. Choose at least three criteria for pitcher comparison. \n",
    "\n",
    "### 4. Data for comparison ###\n",
    "(10 pts) Focus on starting pitchers only because you will have more data. Use 3-5 years of data for each pitcher or time period. A pitcher will need to have at least 3 years of data to be used in this assignment.\n",
    "\n",
    "### 5. Analysis ###\n",
    "(20 pts) Your comparison needs to include a basic statistical analysis, such as t-tests, z-tests, and/or confidence intervals. You also need at least one visual presentation of your data, such as a histogram, bar chart, or line graph. Your visual should be appropriate for the type of data being displayed.\n",
    "\n",
    "### 6. Presentation ###\n",
    "(20 pts) You need a 2-page writeup explaining what you did and your results. Your presentation should have clearly marked sections for \n",
    "\n",
    "* Introduction\n",
    "* Problem Definition\n",
    "* Data\n",
    "* Results\n",
    "\n",
    "### Other notes ###\n",
    "* Proofread your writeup for typos and proper grammar. \n",
    "* If you compare pitch movement, use the statcast fields for vx0, vz0, ax, az, plate_x, plate_z variables instead of pfx_x, pfx_z, I'm not sure what those do.\n",
    "* Include all code and the writeup together in one notebook."
   ]
  },
  {
   "cell_type": "code",
   "execution_count": 78,
   "metadata": {
    "scrolled": true
   },
   "outputs": [],
   "source": [
    "#from pybaseball import statcast\n",
    "\n",
    "#pitches = statcast('2016-01-01', '2018-12-20')"
   ]
  },
  {
   "cell_type": "code",
   "execution_count": 79,
   "metadata": {},
   "outputs": [],
   "source": [
    "#pitches_2016 = statcast('2016-04-02', '2016-11-02')"
   ]
  },
  {
   "cell_type": "code",
   "execution_count": 80,
   "metadata": {},
   "outputs": [],
   "source": [
    "import pandas as pd\n",
    "#pitches_2016_2018 = pd.concat([pitches, pitches_2016], ignore_index=True).drop(\"index\", axis=1)"
   ]
  },
  {
   "cell_type": "code",
   "execution_count": 81,
   "metadata": {},
   "outputs": [],
   "source": [
    "#pitches_2016_2018.to_csv(\"pitches_2016_2018.csv\")"
   ]
  },
  {
   "cell_type": "code",
   "execution_count": 19,
   "metadata": {},
   "outputs": [],
   "source": [
    "from pybaseball.lahman import pitching\n",
    "from pybaseball.lahman import download_lahman\n",
    "\n",
    "download_lahman()\n",
    "\n",
    "p = pitching()\n",
    "p_2016_2018 = p.loc[(p[\"yearID\"] >= 2016) & (p[\"yearID\"] <= 2018) & (p[\"lgID\"] == \"NL\")]"
   ]
  },
  {
   "cell_type": "code",
   "execution_count": 54,
   "metadata": {},
   "outputs": [],
   "source": [
    "avg_era = p_2016_2018[\"ERA\"].mean()\n",
    "avg_pitchers = p_2016_2018.loc[(p_2016_2018[\"ERA\"] <= avg_era + 0.5) &\n",
    "                               (p_2016_2018[\"ERA\"] >= avg_era - 0.5)].copy()"
   ]
  },
  {
   "cell_type": "code",
   "execution_count": 55,
   "metadata": {},
   "outputs": [],
   "source": [
    "from pybaseball import playerid_reverse_lookup"
   ]
  },
  {
   "cell_type": "code",
   "execution_count": 58,
   "metadata": {},
   "outputs": [
    {
     "name": "stdout",
     "output_type": "stream",
     "text": [
      "Gathering player lookup table. This may take a moment.\n"
     ]
    }
   ],
   "source": [
    "avg_lookup = playerid_reverse_lookup(avg_pitchers[\"playerID\"], key_type=\"bbref\")"
   ]
  },
  {
   "cell_type": "code",
   "execution_count": 65,
   "metadata": {
    "scrolled": true
   },
   "outputs": [],
   "source": [
    "avg_pitchers = pd.merge(avg_pitchers, avg_lookup[['key_bbref', 'key_mlbam']],\n",
    "         left_on=\"playerID\", right_on='key_bbref', how='left')"
   ]
  },
  {
   "cell_type": "code",
   "execution_count": 76,
   "metadata": {},
   "outputs": [],
   "source": [
    "apitchers_pitches = pitches_2016_2018.loc[(pitches_2016_2018[\"pitcher\"].isin(avg_pitchers[\"key_mlbam\"]))].copy()"
   ]
  },
  {
   "cell_type": "code",
   "execution_count": 77,
   "metadata": {},
   "outputs": [],
   "source": [
    "#apitchers_pitches.to_csv(\"apitchers_pitches.csv\")"
   ]
  },
  {
   "cell_type": "code",
   "execution_count": 82,
   "metadata": {},
   "outputs": [],
   "source": [
    "apitchers_pitches[\"game_year\"] = apitchers_pitches[\"game_date\"].apply(lambda x: x.year)"
   ]
  },
  {
   "cell_type": "code",
   "execution_count": 104,
   "metadata": {},
   "outputs": [
    {
     "data": {
      "text/plain": [
       "1105.1290322580646"
      ]
     },
     "execution_count": 104,
     "metadata": {},
     "output_type": "execute_result"
    }
   ],
   "source": [
    "avg_pitches_per_year = apitchers_pitches.groupby([\"game_year\", \"pitcher\"]).size().mean()\n",
    "avg_pitches_per_year"
   ]
  },
  {
   "cell_type": "code",
   "execution_count": 108,
   "metadata": {},
   "outputs": [
    {
     "data": {
      "text/plain": [
       "pitcher\n",
       "424144.0    1840\n",
       "434538.0    6877\n",
       "435221.0    3384\n",
       "468504.0    8541\n",
       "501822.0    2427\n",
       "543339.0    2953\n",
       "543475.0    3618\n",
       "543901.0     668\n",
       "571578.0    8765\n",
       "592662.0    8300\n",
       "592779.0    1405\n",
       "595918.0    2488\n",
       "596133.0    4114\n",
       "605151.0    5075\n",
       "605538.0    3601\n",
       "606131.0    5760\n",
       "606983.0     912\n",
       "608379.0    6433\n",
       "608566.0    6204\n",
       "612672.0    4635\n",
       "621107.0    4052\n",
       "622097.0    2008\n",
       "623184.0    2408\n",
       "625643.0    4702\n",
       "640463.0    1750\n",
       "dtype: int64"
      ]
     },
     "execution_count": 108,
     "metadata": {},
     "output_type": "execute_result"
    }
   ],
   "source": [
    "# pitched in 2016, 2017, and 2018\n",
    "\n",
    "apitchers_pitches.groupby([\"pitcher\"]).filter(lambda x: x[\"game_year\"].nunique() == 3 and\n",
    "                                             x.size >= 3*avg_pitches_per_year).groupby([\"pitcher\"]).size()"
   ]
  },
  {
   "cell_type": "code",
   "execution_count": null,
   "metadata": {},
   "outputs": [],
   "source": []
  }
 ],
 "metadata": {
  "kernelspec": {
   "display_name": "Python 3",
   "language": "python",
   "name": "python3"
  },
  "language_info": {
   "codemirror_mode": {
    "name": "ipython",
    "version": 3
   },
   "file_extension": ".py",
   "mimetype": "text/x-python",
   "name": "python",
   "nbconvert_exporter": "python",
   "pygments_lexer": "ipython3",
   "version": "3.7.2"
  }
 },
 "nbformat": 4,
 "nbformat_minor": 2
}
