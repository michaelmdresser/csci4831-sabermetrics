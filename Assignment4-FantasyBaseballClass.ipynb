{
 "cells": [
  {
   "cell_type": "markdown",
   "metadata": {},
   "source": [
    "## Fantasy Baseball Auction Value ##\n",
    "\n",
    "__This notebook provides the content for today's lecture, as well as an introduction to Assignment 4. The details for Assignment 4 are provided at the end of the notebook.__\n",
    "\n",
    "#### Due: Wednesday, March 20 by 3pm. ####"
   ]
  },
  {
   "cell_type": "markdown",
   "metadata": {},
   "source": [
    "Hello everyone, not Rhonda here for once (it's your CAs, Ashna and Brandon). As you've probably heard by now, we're going to be doing a fantasy baseball league in this class. The object of this assignment is to come up with some way for evaluating players. How you might ask? However you want we might reply. You've heard about WAR and wOBA and replacement value and all sorts of ways to evaluate players, and now we're going to turn it into a competition with (fake) money on it (and a prize at the end). "
   ]
  },
  {
   "cell_type": "markdown",
   "metadata": {},
   "source": [
    "#### How does fantasy baseball work?"
   ]
  },
  {
   "cell_type": "markdown",
   "metadata": {},
   "source": [
    "Fantasy baseball assigns point values to different events for real like players, such as runs, homeruns, innings pitched, etc. You can see how your leagues scoring and rosters are set up in the section below under \"You mentioned scoring?\". At the end of the competition (near the end of the semester), whatever team has the most points in each league is the winner! Ashna and I will be playing as well to give you all some competition.\n",
    "\n",
    "__The winning teams get to choose the type of cake we order on the last day of class.__"
   ]
  },
  {
   "cell_type": "markdown",
   "metadata": {},
   "source": [
    "#### How do we pick our team?"
   ]
  },
  {
   "cell_type": "markdown",
   "metadata": {},
   "source": [
    "In fantasy baseball, each player can only belong to one team (just like in real life). You will be selecting your team with a partner through an **auction draft**. In an auction draft, you'll start with \\\\$250. You'll take turns nominating a player, and then everyone will live bid on that player, just like a real life auction. The least a player can go for is \\\\$1, while the most is \\\\$250-(# roster spots - 1). You'll have to use your money wisely to build the best team possible, however you can still use waivers and trades to keep your roster competitive."
   ]
  },
  {
   "cell_type": "markdown",
   "metadata": {},
   "source": [
    "#### What are waivers?"
   ]
  },
  {
   "cell_type": "markdown",
   "metadata": {},
   "source": [
    "Waivers are where any non-rostered player is at. You can pick up players from waivers, but you'll have to drop a player from your roster to do so."
   ]
  },
  {
   "cell_type": "markdown",
   "metadata": {},
   "source": [
    "#### You mentioned scoring?"
   ]
  },
  {
   "cell_type": "markdown",
   "metadata": {},
   "source": [
    "| Batting Stat | Points | \n",
    "|--------------|--------|\n",
    "| AB           | -1.0   |\n",
    "| H            | 5.6    |\n",
    "| 2B           | 2.9    |\n",
    "| 3B           | 5.7    |\n",
    "| HR           | 9.4    |\n",
    "| BB           | 3.0    |\n",
    "| HBP          | 3.0    |\n",
    "| SB           | 1.9    |\n",
    "| CS           | -2.8   |  \n",
    "  \n",
    "| Pitching Stat | Points |\n",
    "|---------------|--------|\n",
    "| IP            | 5      |\n",
    "| K             | 2.0    |\n",
    "| BB            | -3.0   |\n",
    "| HBP           | -3.0   |\n",
    "| HR            | -13    |\n",
    "| SV            | 5.0    |\n",
    "| HLD           | 4.0    |  \n",
    "  \n",
    "| Position | Roster Spots |\n",
    "|----------|--------------|\n",
    "| C        | 1            |\n",
    "| 1B       | 1            |\n",
    "| 2B       | 1            |\n",
    "| 3B       | 1            |\n",
    "| SS       | 1            |\n",
    "| OF       | 3            |\n",
    "| UTIL     | 1            |\n",
    "| SP       | 5            |\n",
    "| RP       | 2            |\n",
    "| Bench    | 3            |  \n",
    "  \n",
    "A few notes about these settings. ESPN counts the \"IP\" stat as per out, so in the scoring settings it is 5/3=1.66, however per every other statkeeping reference, it's 5 points per IP. A 2B/3B/HR is added on to the value of a hit, so a double is worth 5.6+2.9=8.5 points. These weights are based on wOBA/FIP, adjusted to keep pitchers and batter on a reatively level playing field. OF is any outfield position. UTIL is any batter, doesn't matter the position (kind of like a DH)."
   ]
  },
  {
   "cell_type": "markdown",
   "metadata": {},
   "source": [
    "# Assignment 4 - Fantasy Baseball #\n",
    "\n",
    "### Join a league ###"
   ]
  },
  {
   "cell_type": "markdown",
   "metadata": {},
   "source": [
    "The first step in this assignment is to join a fantasy league. There are two leagues you can join that are setup specifically for this class. Both have identcal settings, so pick one.   \n",
    "http://fantasy.espn.com/baseball/league/join?leagueId=90287999&inviteId=471eac27-e559-4737-8f3e-6c13f054a6a1\n",
    "http://fantasy.espn.com/baseball/league/join?leagueId=5441683&inviteId=cf19e2aa-38d9-4886-8aa6-9465aeb58369  \n",
    "You'll need an ESPN account (free). In order to add your group-mate so that you can both control your team, go to \"My Team\" at the top of the page, and then under your team name, there's a \"Add 2nd Owner\" link. If you're having trouble with this, let one of Ashna or I know and we'll add you ourselves. "
   ]
  },
  {
   "cell_type": "markdown",
   "metadata": {},
   "source": [
    "### Design an approach to valuing players ###"
   ]
  },
  {
   "cell_type": "markdown",
   "metadata": {},
   "source": [
    "Glad you asked. Now you get to put your real baseball skills to work. Your assignment is to come up with a way to value players. You can use FanGraphs projections and base them off of that. You can look at historical data and create your own prediction model. You can use some fancy neural network or machine learning algorithm if you want to go the extra mile. It's a pretty open ended question, just at the end you need to come up with some sort of a list that says \"Player A is work \\\\$X\" for every fantasy relevant player in the league. "
   ]
  },
  {
   "cell_type": "markdown",
   "metadata": {},
   "source": [
    "#### Not entirely sure where to get started? ####"
   ]
  },
  {
   "cell_type": "markdown",
   "metadata": {},
   "source": [
    "That's fair, it's a pretty open ended task, especially if you've never done fantasy sports or an auction draft before. Here are some links to help you learn the ropes:  \n",
    "  \n",
    "[FanGraphs Fantasy Auction Calculator.](https://www.fangraphs.com/auctiontool.aspx) Now you can't just export this and turn it in, but it can be a helpful tool for knowing a general range for values.  \n",
    "  \n",
    "[A basic autcion draft overview.](https://757fantasyleague.wordpress.com/auction-draft-the-basics/) This can help you get more familiar with how an auction draft works and some of the basic strategies. You can't get every player that you want, so you need to budget you money.  \n",
    "  \n",
    "Personally, I would recommend coming up with a way to evaluate players based on the categories that we use for scoring. This should net you some expected points. Again, this can come from whatever math or form you like. Then worry about turning those point values into auction dollar values, and there are a number of ways to do that (you can do some Googling). "
   ]
  },
  {
   "cell_type": "markdown",
   "metadata": {},
   "source": [
    "#### How about some sweet hints?"
   ]
  },
  {
   "cell_type": "markdown",
   "metadata": {},
   "source": [
    "No worries, in order to help even out the playing field a bit, here are some hints that can help you in the draft.  \n",
    "1. Try to get other people to spend their money on players that you don't want but you think that other people will. You can use ESPN draft rankings you help find discrepencies between your rankings and the ones that other people will see to help with that.  \n",
    "2. There's more than one strategy to building a team. You can blow all your money on some top tier talent and fill in the rest of your team with cheap players, or build a more balanced roster. Both can work.  \n",
    "3. There's position scarcity in baseball (some positions are deeper than others), meaning that the worst 2B on a roster might put up 1.9 points a game while the worst 1B on a roster might put up 2.5. Establishing a replacement level *wink wink* for each position can help you guage which players are more valuable just becuase of the position they play. \n",
    "4. Fantasy value does not always equal real life value. We don't care about defense and players have to play to score points. There might be some great guy sitting on an MLB teams bench, but he's not going to give you fantasy points if he's only playing every third day. Here, counting stats matter.  \n",
    "5. The league is only going to last a little over a month (the last day of points scoring will be 11:59pm on April 28th), meaning that prospects or players that won't be called up until midway through the season (Vlad Jr., Eloy) aren't realy worth drafting. You're welcome to ask if you don't know who those players are."
   ]
  },
  {
   "cell_type": "markdown",
   "metadata": {},
   "source": [
    "### Submit your code and writeup ###"
   ]
  },
  {
   "cell_type": "markdown",
   "metadata": {},
   "source": [
    "The product that you produce for this assignment is a notebook that describes your approach, as well as the code that implements the approach. Your notebook needs to include the following sections and information:\n",
    "\n",
    "1. Introduction - A summary of your general approach\n",
    "2. Data and statistics - Describe the data and statistics that you used, and how they were used.\n",
    "3. Results of your approach - This section needs to include the top 5 players that your approach identifies. You also need to select one player from your top 5 and provide an analysis of his rating and monetary value.\n",
    "4. Limitations - What difficulties do you see with implementing your strategy in the draft?\n",
    "\n",
    "The draft will occur in class on March 20. Your assignment needs to be submitted before class on that day. \n",
    "\n",
    "To make grading easier, please name the notebook *Assignment4_LastName1_LastName2*, where *LastName1* and *LastName2* are the last names of the team members. Yes, you will be working in teams of two for this assignment."
   ]
  },
  {
   "cell_type": "markdown",
   "metadata": {},
   "source": [
    "OPS, BA, low steal attempts\n",
    "\n",
    "2*ops_norm + 1.6*BA_norm - 0.3*steal_norm\n",
    "\n",
    "\n",
    "starting pitcher (at front of rotation?) that start and stay in for many innings\n",
    "avoid home runs at all costs\n",
    "high strike percentage is good (low walks)\n",
    "\n",
    "3*ip_per_game_norm - 1*hr_per_batter_norm + 1.8*strike_rate_norm  - 0.4*hbp/walk_per_batter_norm"
   ]
  },
  {
   "cell_type": "code",
   "execution_count": 4,
   "metadata": {},
   "outputs": [],
   "source": [
    "def get_percentile_column(df, targetCol):\n",
    "    return df[targetCol].rank(pct=True)\n",
    "\n",
    "def get_batter_score_column(df,\n",
    "                            ops_column=\"ops_percentile\",\n",
    "                            ba_column=\"ba_percentile\",\n",
    "                            steal_column=\"steal_percentile\",\n",
    "                            ops_weight=2,\n",
    "                            ba_weight=1.6,\n",
    "                            steal_weight=-0.3):\n",
    "    return ops_weight*df[ops_column] + \\\n",
    "           ba_weight*df[ba_column] + \\\n",
    "           steal_weight*df[steal_column]\n",
    "\n",
    "def get_pitcher_score_column(df,\n",
    "                             ip_per_game_column=\"ip_per_game_percentile\",\n",
    "                             hr_column=\"hr_percentile\",\n",
    "                             strike_rate_column=\"strike_rate_percentile\",\n",
    "                             hbp_and_walk_column=\"hbp_and_walk_percentile\",\n",
    "                             ip_per_game_weight=3,\n",
    "                             hr_weight=-1,\n",
    "                             strike_rate_weight=1.8,\n",
    "                             hbp_and_walk_weight=-0.4):\n",
    "    return ip_per_game_weight*df[ip_per_game_column] + \\\n",
    "           hr_weight*df[hr_column] + \\\n",
    "           strike_rate_weight*df[strike_rate_column] + \\\n",
    "           hbp_and_walk_weight*df[hbp_and_walk_column]"
   ]
  },
  {
   "cell_type": "code",
   "execution_count": 31,
   "metadata": {},
   "outputs": [],
   "source": [
    "def make_ip_per_game(df):\n",
    "    numgames_numinnings = df_2018.groupby([\"pitcher\", \"game_date\"])[\"inning\"].nunique().to_frame().reset_index().groupby(\"pitcher\").agg({\"game_date\": \"nunique\", \"inning\": \"sum\"})\n",
    "    return numgames_numinnings[\"inning\"] / numgames_numinnings[\"game_date\"]"
   ]
  },
  {
   "cell_type": "code",
   "execution_count": 52,
   "metadata": {},
   "outputs": [],
   "source": [
    "def make_hr_per_batter(df):\n",
    "    home_runs = df.loc[df[\"events\"] == \"home_run\"].groupby([\"pitcher\"]).size()\n",
    "    num_batters = df.loc[df[\"events\"].notna()].groupby([\"pitcher\"]).size()\n",
    "    return home_runs / num_batters"
   ]
  },
  {
   "cell_type": "code",
   "execution_count": 53,
   "metadata": {},
   "outputs": [],
   "source": [
    "def make_strike_rate(df):\n",
    "    strikes = df.loc[df[\"type\"] == \"S\"].groupby([\"pitcher\"]).size()\n",
    "    pitches = df.groupby([\"pitcher\"]).size()\n",
    "    return strikes / pitches"
   ]
  },
  {
   "cell_type": "code",
   "execution_count": 54,
   "metadata": {},
   "outputs": [],
   "source": [
    "def make_hbp_walk_per_batter(df):\n",
    "    walks_and_hbp = df.loc[(df[\"events\"] == \"walk\") | \n",
    "                           (df[\"events\"] == \"hit_by_pitch\")].groupby([\"pitcher\"]).size()\n",
    "    num_batters = df.loc[df[\"events\"].notna()].groupby([\"pitcher\"]).size()\n",
    "    return walks_and_hbp / num_batters"
   ]
  }
 ],
 "metadata": {
  "kernelspec": {
   "display_name": "Python 3",
   "language": "python",
   "name": "python3"
  },
  "language_info": {
   "codemirror_mode": {
    "name": "ipython",
    "version": 3
   },
   "file_extension": ".py",
   "mimetype": "text/x-python",
   "name": "python",
   "nbconvert_exporter": "python",
   "pygments_lexer": "ipython3",
   "version": "3.7.2"
  }
 },
 "nbformat": 4,
 "nbformat_minor": 2
}
