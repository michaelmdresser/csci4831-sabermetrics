{
 "cells": [
  {
   "cell_type": "markdown",
   "metadata": {},
   "source": [
    "# Win Expectancy and Leverage #\n",
    "\n",
    "Name: Michael Dresser\n",
    "\n",
    "### Win Expectancy (WE)###\n",
    "<a href=\"http://m.mlb.com/glossary/advanced-stats/win-expectancy\" target=\"_blank\">Win Expectancy Explained</a>\n",
    "Win expectancy is the probability that a team will win a game from a particular game state.\n",
    "\n",
    "### Win Probability Added (WPA) ###\n",
    "WPA captures how players impact their teams probability of a win. Basically, we sum up the change in WE for a player over the course of the season.\n",
    "<a href=\"http://m.mlb.com/glossary/advanced-stats/win-probability-added\" target=\"_blank\">Win Probability Added Explained</a>\n",
    "\n",
    "### Leverage Index (LI) ###\n",
    "Measures the importance of the event by quantifying how much the WE could change with the event.\n",
    "<a href=\"http://m.mlb.com/glossary/advanced-stats/leverage-index\" target=\"_blank\">Leverage Index Explained</a>\n",
    "\n",
    "### Tom Tango ###\n",
    "He's another baseball guy who has written some books and done some cool stuff with math. I don't think Tom Tango is his real name, and there's no picture of him anywhere.\n",
    "\n",
    "### Understanding these terms ###\n",
    "Here are the links to some pre-calculated LI and WE values. They change a bit year-to-year and environment-to-environment, but the basic idea stays the same.\n",
    "\n",
    "#### Leverage ####\n",
    "<a href=\"http://www.insidethebook.com/li.shtml#18\" target=\"_blank\">Leverage Index values</a>\n",
    "\n",
    "#### Win Expectancy ####\n",
    "<a href=\"http://www.tangotiger.net/welist.html\" target=\"_blank\">Win Expectancy values</a>\n",
    "\n",
    "## Short-answer Questions ##\n",
    "(2 pts)\n",
    "1. What is the relationship between WE and Leverage? Are they positively or negatively correlated, or neither? Provide a few examples to describe your answer.\n",
    "2. Why is -2 with bases loaded in the 9th a higher leverage situation than -3 and bases loaded in the 9th?\n",
    "3. List 3 high-leverage situations in the 1st inning and 3 very high-leverage situations in the 7th inning.\n",
    "4. In the WE tables, what state changes have the largest change in WE? What baseball events could cause those state changes?\n",
    "5. When do a walk and a HR have the same impact on WE?\n",
    "\n",
    "## Programming Questions ##\n",
    "(4 pts)\n",
    "6. How often did Nolan Arenado come up to bat last year in the 9th inning with the Rockies losing?\n",
    "7. How often did Gerardo Parra come up to bat last year in the 9th inning with the Rockies losing?\n",
    "8. Find two players on different teams with similar BA, OBP, SLG. One player should be on a high-scoring team and the other should be on a low-scoring team. Use the 2016 season so that you have Lahman and statcast data. You can use runs scored that season for determining high scoring and low scoring teams.\n",
    "9. For those two players, how many times did they come up to bat with runners on base? How many times did they come up to bat with bases empty?"
   ]
  },
  {
   "cell_type": "markdown",
   "metadata": {},
   "source": [
    "1. WE and Leverage do not have a linear relationship. When WE is very low, Leverage will not be very high because any action by a single player won't have an opportunity to change WE very much. When WE is middling, Leverage will be very high because any action by a single player can increase WE substantially. When WE is very high, Leverage will again not be very high because any action by a single player will not be able to change the WE very much.\n",
    "\n",
    "2. Because in the -2 situation the batter only needs to score two of the runners in order to tie the game and continue it (increasing odds) or 3 of the runners to win outright (a home run is not required). In the -3 situation the batter needs *at least* a triple to tie the game and a home run to win it outright. In other words, in the -2 situation there are more plays that a batter can make to continue or win the game than in the -3 situation.\n",
    "\n",
    "3. 1st (top): Runners on 1st and 2nd, no outs; bases loaded, no outs; bases loaded, 1 out. 7th (top): Bases loaded, down 2, no outs; bases loaded, down 2, 1 out; bases loaded, down 1, 1 out.\n",
    "\n",
    "4. Bottom of the 9th, runner on 3rd, tie game, no outs -> bottom of the 9th, bases empty, tie game, 1 out. -.337. Event: runner on 3rd picked off. Bottom of the 9th, bases empty, down 1, 2 outs -> bottom of the 9th, bases empty, tie game, 2 outs. +.49. Event: HR. \n",
    "\n",
    "5. Bottom of the 9th, bases loaded, tie game."
   ]
  },
  {
   "cell_type": "code",
   "execution_count": 1,
   "metadata": {},
   "outputs": [],
   "source": [
    "from pybaseball import statcast"
   ]
  },
  {
   "cell_type": "code",
   "execution_count": 6,
   "metadata": {
    "scrolled": true
   },
   "outputs": [
    {
     "name": "stdout",
     "output_type": "stream",
     "text": [
      "This is a large query, it may take a moment to complete\n",
      "Completed sub-query from 2018-03-29 to 2018-04-03\n",
      "Completed sub-query from 2018-04-04 to 2018-04-09\n",
      "Completed sub-query from 2018-04-10 to 2018-04-15\n",
      "Completed sub-query from 2018-04-16 to 2018-04-21\n",
      "Completed sub-query from 2018-04-22 to 2018-04-27\n",
      "Completed sub-query from 2018-04-28 to 2018-05-03\n",
      "Completed sub-query from 2018-05-04 to 2018-05-09\n",
      "Completed sub-query from 2018-05-10 to 2018-05-15\n",
      "Completed sub-query from 2018-05-16 to 2018-05-21\n",
      "Completed sub-query from 2018-05-22 to 2018-05-27\n",
      "Completed sub-query from 2018-05-28 to 2018-06-02\n",
      "Completed sub-query from 2018-06-03 to 2018-06-08\n",
      "Completed sub-query from 2018-06-09 to 2018-06-14\n",
      "Completed sub-query from 2018-06-15 to 2018-06-20\n",
      "Completed sub-query from 2018-06-21 to 2018-06-26\n",
      "Completed sub-query from 2018-06-27 to 2018-07-02\n",
      "Completed sub-query from 2018-07-03 to 2018-07-08\n",
      "Completed sub-query from 2018-07-09 to 2018-07-14\n",
      "Completed sub-query from 2018-07-15 to 2018-07-20\n",
      "Completed sub-query from 2018-07-21 to 2018-07-26\n",
      "Completed sub-query from 2018-07-27 to 2018-08-01\n",
      "Completed sub-query from 2018-08-02 to 2018-08-07\n",
      "Completed sub-query from 2018-08-08 to 2018-08-13\n",
      "Completed sub-query from 2018-08-14 to 2018-08-19\n",
      "Completed sub-query from 2018-08-20 to 2018-08-25\n",
      "Completed sub-query from 2018-08-26 to 2018-08-31\n",
      "Completed sub-query from 2018-09-01 to 2018-09-06\n",
      "Completed sub-query from 2018-09-07 to 2018-09-12\n",
      "Completed sub-query from 2018-09-13 to 2018-09-18\n",
      "Completed sub-query from 2018-09-19 to 2018-09-24\n",
      "Completed sub-query from 2018-09-25 to 2018-09-29\n",
      "Completed sub-query from 2018-09-30 to 2018-09-30\n",
      "Completed sub-query from 2018-10-01 to 2018-10-01\n"
     ]
    }
   ],
   "source": [
    "d2018 = statcast('2018-03-29', '2018-10-01')"
   ]
  },
  {
   "cell_type": "code",
   "execution_count": 8,
   "metadata": {},
   "outputs": [],
   "source": [
    "from pybaseball import playerid_lookup"
   ]
  },
  {
   "cell_type": "code",
   "execution_count": 9,
   "metadata": {},
   "outputs": [
    {
     "name": "stdout",
     "output_type": "stream",
     "text": [
      "Gathering player lookup table. This may take a moment.\n"
     ]
    },
    {
     "data": {
      "text/html": [
       "<div>\n",
       "<style scoped>\n",
       "    .dataframe tbody tr th:only-of-type {\n",
       "        vertical-align: middle;\n",
       "    }\n",
       "\n",
       "    .dataframe tbody tr th {\n",
       "        vertical-align: top;\n",
       "    }\n",
       "\n",
       "    .dataframe thead th {\n",
       "        text-align: right;\n",
       "    }\n",
       "</style>\n",
       "<table border=\"1\" class=\"dataframe\">\n",
       "  <thead>\n",
       "    <tr style=\"text-align: right;\">\n",
       "      <th></th>\n",
       "      <th>name_last</th>\n",
       "      <th>name_first</th>\n",
       "      <th>key_mlbam</th>\n",
       "      <th>key_retro</th>\n",
       "      <th>key_bbref</th>\n",
       "      <th>key_fangraphs</th>\n",
       "      <th>mlb_played_first</th>\n",
       "      <th>mlb_played_last</th>\n",
       "    </tr>\n",
       "  </thead>\n",
       "  <tbody>\n",
       "    <tr>\n",
       "      <th>0</th>\n",
       "      <td>arenado</td>\n",
       "      <td>jonah</td>\n",
       "      <td>643198</td>\n",
       "      <td>NaN</td>\n",
       "      <td>NaN</td>\n",
       "      <td>-1</td>\n",
       "      <td>NaN</td>\n",
       "      <td>NaN</td>\n",
       "    </tr>\n",
       "    <tr>\n",
       "      <th>1</th>\n",
       "      <td>arenado</td>\n",
       "      <td>nolan</td>\n",
       "      <td>571448</td>\n",
       "      <td>arenn001</td>\n",
       "      <td>arenano01</td>\n",
       "      <td>9777</td>\n",
       "      <td>2013.0</td>\n",
       "      <td>2019.0</td>\n",
       "    </tr>\n",
       "  </tbody>\n",
       "</table>\n",
       "</div>"
      ],
      "text/plain": [
       "  name_last name_first  key_mlbam key_retro  key_bbref  key_fangraphs  \\\n",
       "0   arenado      jonah     643198       NaN        NaN             -1   \n",
       "1   arenado      nolan     571448  arenn001  arenano01           9777   \n",
       "\n",
       "   mlb_played_first  mlb_played_last  \n",
       "0               NaN              NaN  \n",
       "1            2013.0           2019.0  "
      ]
     },
     "execution_count": 9,
     "metadata": {},
     "output_type": "execute_result"
    }
   ],
   "source": [
    "playerid_lookup(\"Arenado\")"
   ]
  },
  {
   "cell_type": "code",
   "execution_count": 20,
   "metadata": {},
   "outputs": [
    {
     "data": {
      "text/plain": [
       "28"
      ]
     },
     "execution_count": 20,
     "metadata": {},
     "output_type": "execute_result"
    }
   ],
   "source": [
    "d2018.loc[(d2018[\"batter\"] == 571448.0) & (d2018[\"inning\"] == 9) &\n",
    "          (\n",
    "              ((d2018[\"inning_topbot\"] == \"Top\") & (d2018[\"home_score\"] > d2018[\"away_score\"])) | \n",
    "              ((d2018[\"inning_topbot\"] == \"Bot\") & (d2018[\"away_score\"] > d2018[\"home_score\"]))\n",
    "          )\n",
    "         ][\"game_date\"].nunique()"
   ]
  },
  {
   "cell_type": "markdown",
   "metadata": {},
   "source": [
    "## 6. 28 times in 2018"
   ]
  },
  {
   "cell_type": "code",
   "execution_count": 21,
   "metadata": {},
   "outputs": [
    {
     "name": "stdout",
     "output_type": "stream",
     "text": [
      "Gathering player lookup table. This may take a moment.\n"
     ]
    },
    {
     "data": {
      "text/html": [
       "<div>\n",
       "<style scoped>\n",
       "    .dataframe tbody tr th:only-of-type {\n",
       "        vertical-align: middle;\n",
       "    }\n",
       "\n",
       "    .dataframe tbody tr th {\n",
       "        vertical-align: top;\n",
       "    }\n",
       "\n",
       "    .dataframe thead th {\n",
       "        text-align: right;\n",
       "    }\n",
       "</style>\n",
       "<table border=\"1\" class=\"dataframe\">\n",
       "  <thead>\n",
       "    <tr style=\"text-align: right;\">\n",
       "      <th></th>\n",
       "      <th>name_last</th>\n",
       "      <th>name_first</th>\n",
       "      <th>key_mlbam</th>\n",
       "      <th>key_retro</th>\n",
       "      <th>key_bbref</th>\n",
       "      <th>key_fangraphs</th>\n",
       "      <th>mlb_played_first</th>\n",
       "      <th>mlb_played_last</th>\n",
       "    </tr>\n",
       "  </thead>\n",
       "  <tbody>\n",
       "    <tr>\n",
       "      <th>0</th>\n",
       "      <td>parra</td>\n",
       "      <td>gerardo</td>\n",
       "      <td>467827</td>\n",
       "      <td>parrg001</td>\n",
       "      <td>parrage01</td>\n",
       "      <td>8553</td>\n",
       "      <td>2009.0</td>\n",
       "      <td>2019.0</td>\n",
       "    </tr>\n",
       "  </tbody>\n",
       "</table>\n",
       "</div>"
      ],
      "text/plain": [
       "  name_last name_first  key_mlbam key_retro  key_bbref  key_fangraphs  \\\n",
       "0     parra    gerardo     467827  parrg001  parrage01           8553   \n",
       "\n",
       "   mlb_played_first  mlb_played_last  \n",
       "0            2009.0           2019.0  "
      ]
     },
     "execution_count": 21,
     "metadata": {},
     "output_type": "execute_result"
    }
   ],
   "source": [
    "playerid_lookup(\"Parra\", \"gerardo\")"
   ]
  },
  {
   "cell_type": "code",
   "execution_count": 22,
   "metadata": {},
   "outputs": [
    {
     "data": {
      "text/plain": [
       "26"
      ]
     },
     "execution_count": 22,
     "metadata": {},
     "output_type": "execute_result"
    }
   ],
   "source": [
    "d2018.loc[(d2018[\"batter\"] == 467827.0) & (d2018[\"inning\"] == 9) &\n",
    "          (\n",
    "              ((d2018[\"inning_topbot\"] == \"Top\") & (d2018[\"home_score\"] > d2018[\"away_score\"])) | \n",
    "              ((d2018[\"inning_topbot\"] == \"Bot\") & (d2018[\"away_score\"] > d2018[\"home_score\"]))\n",
    "          )\n",
    "         ][\"game_date\"].nunique()"
   ]
  },
  {
   "cell_type": "markdown",
   "metadata": {},
   "source": [
    "## 7. 26 times in 2018"
   ]
  },
  {
   "cell_type": "code",
   "execution_count": 23,
   "metadata": {},
   "outputs": [
    {
     "name": "stdout",
     "output_type": "stream",
     "text": [
      "This is a large query, it may take a moment to complete\n",
      "Completed sub-query from 2016-03-29 to 2016-04-03\n",
      "Completed sub-query from 2016-04-04 to 2016-04-09\n",
      "Completed sub-query from 2016-04-10 to 2016-04-15\n",
      "Completed sub-query from 2016-04-16 to 2016-04-21\n",
      "Completed sub-query from 2016-04-22 to 2016-04-26\n",
      "Completed sub-query from 2016-04-27 to 2016-04-27\n",
      "Completed sub-query from 2016-04-28 to 2016-05-03\n",
      "Completed sub-query from 2016-05-04 to 2016-05-09\n",
      "Completed sub-query from 2016-05-10 to 2016-05-15\n",
      "Completed sub-query from 2016-05-16 to 2016-05-21\n",
      "Completed sub-query from 2016-05-22 to 2016-05-27\n",
      "Completed sub-query from 2016-05-28 to 2016-06-02\n",
      "Completed sub-query from 2016-06-03 to 2016-06-08\n",
      "Completed sub-query from 2016-06-09 to 2016-06-14\n",
      "Completed sub-query from 2016-06-15 to 2016-06-20\n",
      "Completed sub-query from 2016-06-21 to 2016-06-26\n",
      "Completed sub-query from 2016-06-27 to 2016-07-02\n",
      "Completed sub-query from 2016-07-03 to 2016-07-07\n",
      "Completed sub-query from 2016-07-08 to 2016-07-08\n",
      "Completed sub-query from 2016-07-09 to 2016-07-14\n",
      "Completed sub-query from 2016-07-15 to 2016-07-20\n",
      "Completed sub-query from 2016-07-21 to 2016-07-26\n",
      "Completed sub-query from 2016-07-27 to 2016-08-01\n",
      "Completed sub-query from 2016-08-02 to 2016-08-07\n",
      "Completed sub-query from 2016-08-08 to 2016-08-13\n",
      "Completed sub-query from 2016-08-14 to 2016-08-19\n",
      "Completed sub-query from 2016-08-20 to 2016-08-25\n",
      "Completed sub-query from 2016-08-26 to 2016-08-31\n",
      "Completed sub-query from 2016-09-01 to 2016-09-06\n",
      "Completed sub-query from 2016-09-07 to 2016-09-12\n",
      "Completed sub-query from 2016-09-13 to 2016-09-18\n",
      "Completed sub-query from 2016-09-19 to 2016-09-24\n",
      "Completed sub-query from 2016-09-25 to 2016-09-30\n",
      "Completed sub-query from 2016-10-01 to 2016-10-01\n"
     ]
    }
   ],
   "source": [
    "d2016 = statcast('2016-03-29', '2016-10-01')"
   ]
  },
  {
   "cell_type": "code",
   "execution_count": 24,
   "metadata": {},
   "outputs": [],
   "source": [
    "from pybaseball.lahman import batting\n",
    "\n",
    "b = batting()"
   ]
  },
  {
   "cell_type": "code",
   "execution_count": 25,
   "metadata": {},
   "outputs": [],
   "source": [
    "def get_obp_series(df):\n",
    "    return (df[\"H\"] + df[\"BB\"] + df[\"HBP\"]) / (df[\"AB\"] + df[\"BB\"] + df[\"HBP\"] + df[\"SF\"])\n",
    "\n",
    "def get_slg_series(df):\n",
    "    singles = df[\"H\"] - df[\"HR\"] - df[\"2B\"] - df[\"3B\"]\n",
    "    return (singles + 2*df[\"2B\"] + 3*df[\"3B\"] + 4*df[\"HR\"]) / df[\"AB\"]\n",
    "\n",
    "def get_avg_series(df):\n",
    "    return (df[\"H\"]) / (df[\"AB\"])"
   ]
  },
  {
   "cell_type": "code",
   "execution_count": 26,
   "metadata": {},
   "outputs": [],
   "source": [
    "b[\"OBP\"] = get_obp_series(b)\n",
    "b[\"SLG\"] = get_slg_series(b)\n",
    "b[\"BA\"] = get_avg_series(b)"
   ]
  },
  {
   "cell_type": "code",
   "execution_count": 31,
   "metadata": {},
   "outputs": [],
   "source": [
    "b = b.loc[(b[\"yearID\"] == 2016) & (b[\"AB\"] > 100)].copy()"
   ]
  },
  {
   "cell_type": "code",
   "execution_count": 35,
   "metadata": {},
   "outputs": [],
   "source": [
    "tor = b.loc[(b[\"teamID\"] == \"TOR\")] # high scoring team: blue jays"
   ]
  },
  {
   "cell_type": "code",
   "execution_count": 38,
   "metadata": {},
   "outputs": [],
   "source": [
    "oak = b.loc[(b[\"teamID\"] == \"OAK\")] # low scoring team: a's"
   ]
  },
  {
   "cell_type": "code",
   "execution_count": 51,
   "metadata": {},
   "outputs": [],
   "source": [
    "matching_ids = []\n",
    "threshold = 0.05\n",
    "for _, trow in tor.iterrows():\n",
    "    for _, orow in oak.iterrows():\n",
    "        if abs(trow[\"OBP\"] - orow[\"OBP\"]) < threshold and abs(trow[\"SLG\"] - orow[\"SLG\"]) < threshold and abs(trow[\"BA\"] - orow[\"BA\"]) - threshold:\n",
    "            matching_ids.append((trow[\"playerID\"], orow[\"playerID\"]))"
   ]
  },
  {
   "cell_type": "code",
   "execution_count": 52,
   "metadata": {},
   "outputs": [
    {
     "data": {
      "text/plain": [
       "[('barneda01', 'alonsyo01'),\n",
       " ('barneda01', 'butlebi03'),\n",
       " ('barneda01', 'crispco01'),\n",
       " ('barneda01', 'smolija01'),\n",
       " ('barneda01', 'vogtst01'),\n",
       " ('bautijo02', 'butlebi03'),\n",
       " ('bautijo02', 'reddijo01'),\n",
       " ('bautijo02', 'valenda01'),\n",
       " ('carreez01', 'alonsyo01'),\n",
       " ('carreez01', 'butlebi03'),\n",
       " ('carreez01', 'crispco01'),\n",
       " ('carreez01', 'lowrije01'),\n",
       " ('carreez01', 'smolija01'),\n",
       " ('encared01', 'healyry01'),\n",
       " ('goinsry01', 'burnsbi02'),\n",
       " ('goinsry01', 'coghlch01'),\n",
       " ('goinsry01', 'eibnebr01'),\n",
       " ('martiru01', 'alonsyo01'),\n",
       " ('martiru01', 'butlebi03'),\n",
       " ('martiru01', 'crispco01'),\n",
       " ('martiru01', 'semiema01'),\n",
       " ('martiru01', 'valenda01'),\n",
       " ('martiru01', 'vogtst01'),\n",
       " ('pillake01', 'alonsyo01'),\n",
       " ('pillake01', 'butlebi03'),\n",
       " ('pillake01', 'crispco01'),\n",
       " ('pillake01', 'smolija01'),\n",
       " ('pillake01', 'vogtst01'),\n",
       " ('saundmi01', 'daviskh01'),\n",
       " ('saundmi01', 'healyry01'),\n",
       " ('saundmi01', 'reddijo01'),\n",
       " ('saundmi01', 'semiema01'),\n",
       " ('saundmi01', 'valenda01'),\n",
       " ('smoakju01', 'alonsyo01'),\n",
       " ('smoakju01', 'butlebi03'),\n",
       " ('smoakju01', 'crispco01'),\n",
       " ('smoakju01', 'semiema01'),\n",
       " ('smoakju01', 'smolija01'),\n",
       " ('smoakju01', 'vogtst01'),\n",
       " ('travide01', 'reddijo01'),\n",
       " ('travide01', 'semiema01'),\n",
       " ('travide01', 'valenda01'),\n",
       " ('travide01', 'vogtst01'),\n",
       " ('tulowtr01', 'butlebi03'),\n",
       " ('tulowtr01', 'crispco01'),\n",
       " ('tulowtr01', 'reddijo01'),\n",
       " ('tulowtr01', 'semiema01'),\n",
       " ('tulowtr01', 'valenda01'),\n",
       " ('tulowtr01', 'vogtst01'),\n",
       " ('uptonbj01', 'burnsbi02'),\n",
       " ('uptonbj01', 'coghlch01'),\n",
       " ('uptonbj01', 'eibnebr01'),\n",
       " ('uptonbj01', 'smolija01')]"
      ]
     },
     "execution_count": 52,
     "metadata": {},
     "output_type": "execute_result"
    }
   ],
   "source": [
    "matching_ids"
   ]
  },
  {
   "cell_type": "markdown",
   "metadata": {},
   "source": [
    "## 8. Yonder Alonso and Darwin Barney"
   ]
  },
  {
   "cell_type": "code",
   "execution_count": 53,
   "metadata": {},
   "outputs": [
    {
     "data": {
      "text/html": [
       "<div>\n",
       "<style scoped>\n",
       "    .dataframe tbody tr th:only-of-type {\n",
       "        vertical-align: middle;\n",
       "    }\n",
       "\n",
       "    .dataframe tbody tr th {\n",
       "        vertical-align: top;\n",
       "    }\n",
       "\n",
       "    .dataframe thead th {\n",
       "        text-align: right;\n",
       "    }\n",
       "</style>\n",
       "<table border=\"1\" class=\"dataframe\">\n",
       "  <thead>\n",
       "    <tr style=\"text-align: right;\">\n",
       "      <th></th>\n",
       "      <th>playerID</th>\n",
       "      <th>yearID</th>\n",
       "      <th>stint</th>\n",
       "      <th>teamID</th>\n",
       "      <th>lgID</th>\n",
       "      <th>G</th>\n",
       "      <th>AB</th>\n",
       "      <th>R</th>\n",
       "      <th>H</th>\n",
       "      <th>2B</th>\n",
       "      <th>...</th>\n",
       "      <th>BB</th>\n",
       "      <th>SO</th>\n",
       "      <th>IBB</th>\n",
       "      <th>HBP</th>\n",
       "      <th>SH</th>\n",
       "      <th>SF</th>\n",
       "      <th>GIDP</th>\n",
       "      <th>OBP</th>\n",
       "      <th>SLG</th>\n",
       "      <th>BA</th>\n",
       "    </tr>\n",
       "  </thead>\n",
       "  <tbody>\n",
       "    <tr>\n",
       "      <th>101407</th>\n",
       "      <td>barneda01</td>\n",
       "      <td>2016</td>\n",
       "      <td>1</td>\n",
       "      <td>TOR</td>\n",
       "      <td>AL</td>\n",
       "      <td>104</td>\n",
       "      <td>279</td>\n",
       "      <td>35</td>\n",
       "      <td>75</td>\n",
       "      <td>13</td>\n",
       "      <td>...</td>\n",
       "      <td>22</td>\n",
       "      <td>48.0</td>\n",
       "      <td>1.0</td>\n",
       "      <td>1.0</td>\n",
       "      <td>2.0</td>\n",
       "      <td>2.0</td>\n",
       "      <td>8.0</td>\n",
       "      <td>0.322368</td>\n",
       "      <td>0.37276</td>\n",
       "      <td>0.268817</td>\n",
       "    </tr>\n",
       "  </tbody>\n",
       "</table>\n",
       "<p>1 rows × 25 columns</p>\n",
       "</div>"
      ],
      "text/plain": [
       "         playerID  yearID  stint teamID lgID    G   AB   R   H  2B    ...     \\\n",
       "101407  barneda01    2016      1    TOR   AL  104  279  35  75  13    ...      \n",
       "\n",
       "        BB    SO  IBB  HBP   SH   SF  GIDP       OBP      SLG        BA  \n",
       "101407  22  48.0  1.0  1.0  2.0  2.0   8.0  0.322368  0.37276  0.268817  \n",
       "\n",
       "[1 rows x 25 columns]"
      ]
     },
     "execution_count": 53,
     "metadata": {},
     "output_type": "execute_result"
    }
   ],
   "source": [
    "tor.loc[tor[\"playerID\"] == \"barneda01\"]"
   ]
  },
  {
   "cell_type": "code",
   "execution_count": 55,
   "metadata": {},
   "outputs": [
    {
     "data": {
      "text/html": [
       "<div>\n",
       "<style scoped>\n",
       "    .dataframe tbody tr th:only-of-type {\n",
       "        vertical-align: middle;\n",
       "    }\n",
       "\n",
       "    .dataframe tbody tr th {\n",
       "        vertical-align: top;\n",
       "    }\n",
       "\n",
       "    .dataframe thead th {\n",
       "        text-align: right;\n",
       "    }\n",
       "</style>\n",
       "<table border=\"1\" class=\"dataframe\">\n",
       "  <thead>\n",
       "    <tr style=\"text-align: right;\">\n",
       "      <th></th>\n",
       "      <th>playerID</th>\n",
       "      <th>yearID</th>\n",
       "      <th>stint</th>\n",
       "      <th>teamID</th>\n",
       "      <th>lgID</th>\n",
       "      <th>G</th>\n",
       "      <th>AB</th>\n",
       "      <th>R</th>\n",
       "      <th>H</th>\n",
       "      <th>2B</th>\n",
       "      <th>...</th>\n",
       "      <th>BB</th>\n",
       "      <th>SO</th>\n",
       "      <th>IBB</th>\n",
       "      <th>HBP</th>\n",
       "      <th>SH</th>\n",
       "      <th>SF</th>\n",
       "      <th>GIDP</th>\n",
       "      <th>OBP</th>\n",
       "      <th>SLG</th>\n",
       "      <th>BA</th>\n",
       "    </tr>\n",
       "  </thead>\n",
       "  <tbody>\n",
       "    <tr>\n",
       "      <th>101356</th>\n",
       "      <td>alonsyo01</td>\n",
       "      <td>2016</td>\n",
       "      <td>1</td>\n",
       "      <td>OAK</td>\n",
       "      <td>AL</td>\n",
       "      <td>156</td>\n",
       "      <td>482</td>\n",
       "      <td>52</td>\n",
       "      <td>122</td>\n",
       "      <td>34</td>\n",
       "      <td>...</td>\n",
       "      <td>45</td>\n",
       "      <td>74.0</td>\n",
       "      <td>1.0</td>\n",
       "      <td>1.0</td>\n",
       "      <td>0.0</td>\n",
       "      <td>4.0</td>\n",
       "      <td>15.0</td>\n",
       "      <td>0.315789</td>\n",
       "      <td>0.36722</td>\n",
       "      <td>0.253112</td>\n",
       "    </tr>\n",
       "  </tbody>\n",
       "</table>\n",
       "<p>1 rows × 25 columns</p>\n",
       "</div>"
      ],
      "text/plain": [
       "         playerID  yearID  stint teamID lgID    G   AB   R    H  2B    ...     \\\n",
       "101356  alonsyo01    2016      1    OAK   AL  156  482  52  122  34    ...      \n",
       "\n",
       "        BB    SO  IBB  HBP   SH   SF  GIDP       OBP      SLG        BA  \n",
       "101356  45  74.0  1.0  1.0  0.0  4.0  15.0  0.315789  0.36722  0.253112  \n",
       "\n",
       "[1 rows x 25 columns]"
      ]
     },
     "execution_count": 55,
     "metadata": {},
     "output_type": "execute_result"
    }
   ],
   "source": [
    "oak.loc[oak[\"playerID\"] == \"alonsyo01\"]"
   ]
  },
  {
   "cell_type": "code",
   "execution_count": 59,
   "metadata": {},
   "outputs": [
    {
     "name": "stdout",
     "output_type": "stream",
     "text": [
      "Gathering player lookup table. This may take a moment.\n"
     ]
    },
    {
     "data": {
      "text/html": [
       "<div>\n",
       "<style scoped>\n",
       "    .dataframe tbody tr th:only-of-type {\n",
       "        vertical-align: middle;\n",
       "    }\n",
       "\n",
       "    .dataframe tbody tr th {\n",
       "        vertical-align: top;\n",
       "    }\n",
       "\n",
       "    .dataframe thead th {\n",
       "        text-align: right;\n",
       "    }\n",
       "</style>\n",
       "<table border=\"1\" class=\"dataframe\">\n",
       "  <thead>\n",
       "    <tr style=\"text-align: right;\">\n",
       "      <th></th>\n",
       "      <th>name_last</th>\n",
       "      <th>name_first</th>\n",
       "      <th>key_mlbam</th>\n",
       "      <th>key_retro</th>\n",
       "      <th>key_bbref</th>\n",
       "      <th>key_fangraphs</th>\n",
       "      <th>mlb_played_first</th>\n",
       "      <th>mlb_played_last</th>\n",
       "    </tr>\n",
       "  </thead>\n",
       "  <tbody>\n",
       "    <tr>\n",
       "      <th>0</th>\n",
       "      <td>alonso</td>\n",
       "      <td>yonder</td>\n",
       "      <td>475174</td>\n",
       "      <td>alony001</td>\n",
       "      <td>alonsyo01</td>\n",
       "      <td>2530</td>\n",
       "      <td>2010.0</td>\n",
       "      <td>2019.0</td>\n",
       "    </tr>\n",
       "    <tr>\n",
       "      <th>1</th>\n",
       "      <td>barney</td>\n",
       "      <td>darwin</td>\n",
       "      <td>446381</td>\n",
       "      <td>barnd001</td>\n",
       "      <td>barneda01</td>\n",
       "      <td>2430</td>\n",
       "      <td>2010.0</td>\n",
       "      <td>2017.0</td>\n",
       "    </tr>\n",
       "  </tbody>\n",
       "</table>\n",
       "</div>"
      ],
      "text/plain": [
       "  name_last name_first  key_mlbam key_retro  key_bbref  key_fangraphs  \\\n",
       "0    alonso     yonder     475174  alony001  alonsyo01           2530   \n",
       "1    barney     darwin     446381  barnd001  barneda01           2430   \n",
       "\n",
       "   mlb_played_first  mlb_played_last  \n",
       "0            2010.0           2019.0  \n",
       "1            2010.0           2017.0  "
      ]
     },
     "execution_count": 59,
     "metadata": {},
     "output_type": "execute_result"
    }
   ],
   "source": [
    "from pybaseball import playerid_reverse_lookup\n",
    "\n",
    "playerid_reverse_lookup([\"barneda01\", \"alonsyo01\"], key_type=\"bbref\")"
   ]
  },
  {
   "cell_type": "code",
   "execution_count": 66,
   "metadata": {},
   "outputs": [],
   "source": [
    "def with_runners_on(statcast_df, batter_id):\n",
    "    df = statcast_df\n",
    "    return len(df.loc[(df[\"batter\"] == batter_id) &\n",
    "                      (\n",
    "                          (df[\"on_1b\"].notna() | df[\"on_2b\"].notna() | df[\"on_3b\"].notna())\n",
    "                      )\n",
    "                     ].groupby([\"game_date\", \"inning\"]).size())\n",
    "\n",
    "def without_runners_on(statcast_df, batter_id):\n",
    "    df = statcast_df\n",
    "    return len(df.loc[(df[\"batter\"] == batter_id) &\n",
    "                     (df[\"on_1b\"].isna()) &\n",
    "                     (df[\"on_2b\"].isna()) &\n",
    "                     (df[\"on_3b\"].isna())\n",
    "                    ].groupby([\"game_date\", \"inning\"]).size())"
   ]
  },
  {
   "cell_type": "markdown",
   "metadata": {},
   "source": [
    "## 9. See below"
   ]
  },
  {
   "cell_type": "code",
   "execution_count": 68,
   "metadata": {},
   "outputs": [
    {
     "name": "stdout",
     "output_type": "stream",
     "text": [
      "Yonder Alonso runners on / bases empty\n",
      "237\n",
      "293\n",
      "Darwin Barney runners on / bases empty\n",
      "118\n",
      "189\n"
     ]
    }
   ],
   "source": [
    "alonso = 475174\n",
    "barney = 446381\n",
    "\n",
    "print(\"Yonder Alonso runners on / bases empty\")\n",
    "print(with_runners_on(d2016, alonso))\n",
    "print(without_runners_on(d2016, alonso))\n",
    "\n",
    "print(\"Darwin Barney runners on / bases empty\")\n",
    "print(with_runners_on(d2016, barney))\n",
    "print(without_runners_on(d2016, barney))"
   ]
  }
 ],
 "metadata": {
  "kernelspec": {
   "display_name": "Python 3",
   "language": "python",
   "name": "python3"
  },
  "language_info": {
   "codemirror_mode": {
    "name": "ipython",
    "version": 3
   },
   "file_extension": ".py",
   "mimetype": "text/x-python",
   "name": "python",
   "nbconvert_exporter": "python",
   "pygments_lexer": "ipython3",
   "version": "3.7.3"
  }
 },
 "nbformat": 4,
 "nbformat_minor": 2
}
