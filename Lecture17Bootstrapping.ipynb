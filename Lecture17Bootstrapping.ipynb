{
 "cells": [
  {
   "cell_type": "markdown",
   "metadata": {},
   "source": [
    "# Can hitters change their behavior in different game situations? #\n",
    "\n",
    "Name: Michael Dresser\n",
    "\n",
    "In recent years, there has a proliferation of defensive shifts in baseball. Teams identify a hitter's tendencies, and then change their positioning on the field to maximize their chances of getting the hitter out. We've seen this in the most extreme where the right side of the infield is overloaded - the 3rd baseman plays at the shortstop position, the shortstop is positioned behind 2nd, and the 2nd baseman is in short right field.\n",
    "\n",
    "The obvious question for a fan seeing a defensive shift is, why don't hitters just hit it to the 3rd base side and take the single? Instead, hitters often hit the ball right into the shift. As long as the shift is working, teams will continue to use it to increase their chances of getting hitters out.\n",
    "\n",
    "There is another question that arises about hitters - can hitters change their natural tendencies to match the game situation? For example, can hitters who don't hit a lot of fly balls hit a fly ball with a runner on 3rd and no outs to get the sacrifice? Can natural fly ball hitters hit a ground ball to the right side with a runner on 2nd and no outs? There are scenarios when a hitters behavior could have a benefit for the team's ability to score a run.\n",
    "\n",
    "There is current trend of applying a defensive shift, primarily for left-handed pull hitters. The result is a defensive alignment where the 3rd baseman plays at the shortstop position, the shortstop is behind 2nd base in short center field, and the 2nd baseman is shifted over toward 1st base in short right field. The obvious question is, why don't hitters just adjust their tendencies and hit the ball somewhere else?\n",
    "\n",
    "## Situational performance scenarios ##\n",
    "For any game situation, are some players better than other at adjusting their behavior to match the situation? Alternatively, we could ask if there is a change in behavior, whether intentional or not.\n",
    "\n",
    "* Rockies fans watched for years as Troy Tulowitski came to bat with runners on base and hit a long fly ball out. It's hard not to wonder if he's trying to hit a home run. Whether intentional or unintentional, can we determine if his behavior changes with runners on base, especially in late innings with the game on the line? Is he trying to be the hero?\n",
    "\n",
    "* With a runner on third and less than two outs, it's nice to see that run score. Yet, batters aren't always successful in hitting a fly ball in that situation. Can we determine if some batters are more likely to hit a fly ball in that situation than they would normally?\n",
    "\n",
    "* With a runner on 2nd and no outs, getting the runner to 3rd means that the runner scores on a sacrifice fly. In a close game, moving this runner could be key to scoring a winning or tying run. Can we determine if some batters can hit a right-side ground ball in this situation even if they don't normally hit ground balls to the right side?\n",
    "\n"
   ]
  },
  {
   "cell_type": "markdown",
   "metadata": {},
   "source": [
    "### Challenges ###\n",
    "* Using standard statistical methods requires knowing the underlying distribution.\n",
    "* Distribution might not be normal\n",
    "* Different sample sizes in different situations skew the results."
   ]
  },
  {
   "cell_type": "markdown",
   "metadata": {},
   "source": [
    "# Bootstrapping #\n",
    "We're going to use a technique called bootstrapping to answer questions about players' behavior in different situations. We could also use this approach to determine run production at Coors Field is an outlier compared to other ballparks. \n",
    "\n",
    "* Bootstrapping is a technique where we simulate the outcome of a process by sampling randomly from a data set. \n",
    "\n",
    "* We use these samples to generate a distribution. \n",
    "\n",
    "* We don't need to know the parameters of the distribution, such as mean, std, and median ahead of time, we generate them from our sampling.\n",
    "\n",
    "* Works with small datasets.\n",
    "\n",
    "* Why is it called Bootstrapping? There's an expression, \"Pull yourself up by your bootstraps.\" In statistics, it's accomplishing what you need with what you've got without sacrificing statistical rigor."
   ]
  },
  {
   "cell_type": "markdown",
   "metadata": {},
   "source": [
    "## A non-baseball example ##\n",
    "Let's say you're sitting outside the engineering center one day and you see 10 people walk by, wearing different color jackets. You see,\n",
    "\n",
    "* 5 black jackets\n",
    "* 2 red jackets\n",
    "* 1 blue jacket\n",
    "* 2 green jacket\n",
    "\n",
    "From these observations, you wonder what the probability is of seeing a student at CU wearing a red jacket. Your first thought is that it's 20\\%. But, your sample size is so small and there are 30K students at CU. What are the mean, std of your observations? \n",
    "\n",
    "The information that you have is the empirical distribution of the data, not the underlying distribution. \n",
    "\n",
    "We can use bootstrapping and approximate the underlying distribution from these 10 observations by simulating the process of observing 10 other people, many times. With enough samples, the empirical distribution matches the underlying distribution.\n",
    "\n",
    "We randomly draw from the possible values uniformly. In this example, $n = 10$, we can create an array of the 4 distinct values observed in the $n$ observations:\n",
    "$$[B, B, B, B, B, R, R, BL, G, G]$$\n",
    "\n",
    "__Bootstrap Resample:__ A set of $n$ draws from the original sample with replacement.\n",
    "\n",
    "__What does sample with replacement mean?__\n",
    "\n",
    "__Draw:__ A draw is a process of selecting one element randomly from our original sample.\n",
    "\n",
    "### Bootstrap Resample ###\n",
    "To generate a bootstrap resample in this example, we generate a random number, 1-10, that represents a position in our array of observations. For example, if we randomly generate the numbers 3 and 6, that means that we observed a B and R jacket because they are in the 3 and 6 positions in our array. We need $n$ draws for a complete resample. \n",
    "\n",
    "Assume we generate the following draws:\n",
    "\n",
    "$$[4, 6, 7, 3, 6, 5, 10, 1, 2, 9]$$\n",
    "\n",
    "it is equivalent to observing:\n",
    "\n",
    "$$[B, R, R, B, R, B, G, B, B, G]$$\n",
    "\n",
    "Three of the observations are R, which is equivalent to observing 3/10 red jackets. To generate a distribution of observations, we repeat the resampling process many times, let's say 1,000. We have 1,000 iterations of $n$ draws, and in each of the $n$ draws, there is a number of times that B is observed.\n",
    "\n",
    "We can implement this process in Python pretty easily. In one run of 1000 resamples, I produced the following values:\n",
    "\n",
    "* 0-118\n",
    "* 1-275\n",
    "* 2-309\n",
    "* 3-192\n",
    "* 4-74\n",
    "* 5-19\n",
    "* 6-7\n",
    "* 7-1\n",
    "* 8-0\n",
    "* 9-0\n",
    "* 10-0\n",
    "\n",
    "The descriptive statistics for this distribution include:\n",
    "\n",
    "* count=1000.000000\n",
    "* mean=2.066000\n",
    "* std=1.308953\n",
    "* min=0.000000\n",
    "* 25\\%=1.000000\n",
    "* 50\\%=2.000000\n",
    "* 75\\%=3.000000\n",
    "* max=7.000000\n"
   ]
  },
  {
   "cell_type": "code",
   "execution_count": 39,
   "metadata": {},
   "outputs": [
    {
     "name": "stdout",
     "output_type": "stream",
     "text": [
      "                 0\n",
      "count  1000.000000\n",
      "mean      1.940000\n",
      "std       1.235284\n",
      "min       0.000000\n",
      "25%       1.000000\n",
      "50%       2.000000\n",
      "75%       3.000000\n",
      "max       6.000000\n"
     ]
    }
   ],
   "source": [
    "from random import randint\n",
    "import pandas as pd \n",
    "#array of jacket values\n",
    "jackets = [0,0,1,2,3]\n",
    "trials = [0] * 1000\n",
    "for i in range(0,1000): #1000 trials\n",
    "    countForTrial = 0\n",
    "    for j in range(0,10): #10 jackets observed, get their color\n",
    "        x = randint(0,9)\n",
    "        if x == 5 or x == 6:\n",
    "            countForTrial += 1\n",
    "\n",
    "    trials[i] = countForTrial\n",
    "\n",
    "trials.sort()\n",
    "df = pd.DataFrame(trials)\n",
    "print(df.describe())\n",
    "\n",
    "#What do the values mean here?"
   ]
  },
  {
   "cell_type": "markdown",
   "metadata": {},
   "source": [
    "## A Baseball Example ##\n",
    "Tulo...Tulo...Tulo. Did Troy Tulowitski hit more flyballs with a runner on third and less than two outs than he did in other base-out situations, with less than two outs? \n",
    "\n",
    "We can't know a player's intent. But, one would hope that getting that run to score from third would be a priority for the batter, or at least that's what old-school baseball fans would say.\n",
    "\n",
    "From the data, can we determine if there was a difference in the distribution of flyballs for Tulo in this situation?\n",
    "\n",
    "### What data do we need? ###\n",
    "* The number of times that Tulo batted with a runner on third and less than two outs, and how many times that resulted in a fly ball.\n",
    "* The number of times that Tulo batted with no runner on third and less than two outs, and how many times that resulted in a fly ball.\n",
    "\n",
    "#### Data results ####\n",
    "\n",
    "* 143 times tulo batted with a runner on third and less than 2 outs\n",
    "  - 16 times tulo hit a fly-ball out to the outfield\n",
    "\n",
    "* 1087 times tulo batted with no runner on third and less than 2 outs\n",
    "  - 132 times tulo hit a fly-ball out to the outfield with no runner on third\n",
    "\n",
    "__Null Hypothesis: There is no change in Tulo's behavior with a runner on third when there is less than 2 outs.__\n",
    "\n",
    "* The pool of possible values is 143+1087=1230 at-bats. \n",
    "  - 16 of 143 is flyball and 132 of 1087 is flyball.\n",
    "\n",
    "* A draw is an at-bat. The result of the draw is he either hits a flyball or he doesn't.  \n",
    "\n",
    "* A sample is 143 at-bats for Tulo to simulate the times he came to bat with runner on third and less than 2 outs.\n",
    "\n",
    "#### Setting up the simulation ####\n",
    "* In all of his at-bats, how many times did Tulo hit a flyball out? 148\n",
    "\n",
    "* Need a list of 1230 at-bats, where 0-147 = 1 for flyball out and 148-1229 = 0 for not flyball out\n",
    "\n",
    "### Simulation results ###\n",
    "In one run of the simulation, 16 of 143 shows up in 96 out of 1000 trials, so p-value of observing 16 flyballs in 143 at bats is .096. Other runs of the simulation produced similar results. We can't reject the null hypothesis. There is no change in his flyball hitting behavior with a runner on third. \n"
   ]
  },
  {
   "cell_type": "code",
   "execution_count": 40,
   "metadata": {},
   "outputs": [
    {
     "name": "stdout",
     "output_type": "stream",
     "text": [
      "0.119\n",
      "                 0\n",
      "count  1000.000000\n",
      "mean     17.233000\n",
      "std       3.874238\n",
      "min       5.000000\n",
      "25%      15.000000\n",
      "50%      17.000000\n",
      "75%      20.000000\n",
      "max      30.000000\n"
     ]
    },
    {
     "data": {
      "text/plain": [
       "Text(0,0.5,'Frequency')"
      ]
     },
     "execution_count": 40,
     "metadata": {},
     "output_type": "execute_result"
    }
   ],
   "source": [
    "from random import randint\n",
    "import pandas as pd \n",
    "import matplotlib.pylab as plt\n",
    "\n",
    "#tulo and the flyball out\n",
    "hits = [0] * 1230\n",
    "for i in range(0,148):\n",
    "    hits[i] = 1\n",
    "trials = [0] * 1000\n",
    "for i in range(0,1000):\n",
    "    countForTrial = 0\n",
    "    for j in range(0,143):\n",
    "        x = randint(0,1229)\n",
    "        countForTrial+=hits[x]\n",
    "    trials[i] = countForTrial\n",
    "trials.sort()\n",
    "tr = 0\n",
    "for t in trials:\n",
    "    if t == 16:\n",
    "        tr+=1\n",
    "print(tr/1000)\n",
    "df = pd.DataFrame(trials)\n",
    "print(df.describe())\n",
    "# Initialize figure and axis\n",
    "fig, ax = plt.subplots(figsize=(8,4))\n",
    "\n",
    "# Plot histogram \n",
    "df.hist(ax=ax);\n",
    "# Add a title\n",
    "ax.set_title(\"Tulo flyball outs\", fontsize=20)\n",
    "\n",
    "# Add axis labels \n",
    "ax.set_xlabel(\"Number of flyballs in 143 at-bats\", fontsize=16)\n",
    "ax.set_ylabel(\"Frequency\", fontsize=16)"
   ]
  },
  {
   "cell_type": "markdown",
   "metadata": {},
   "source": [
    "## Questions ##\n",
    "1. (2 pts) Explain how you could use bootstrapping to determine how run scoring at Coors Field compares to the rest of the National League? Specifically, how does the mean number of runs scored at Coors in the 2018 season compare to the mean number of runs scored at other stadiums?\n",
    "   \n",
    "   1a. What is a draw for this problem?\n",
    "   \n",
    "   1b. What is a sample?\n",
    "   \n",
    "   1c. How do you set up your simulation?\n",
    "   \n",
    "   1d. How would you determine if run scoring at Coors is a statistically significant outlier?\n",
    "   \n",
    "   1e. What is the Null hypothesis?\n",
    "   \n",
    "2. (2 pts) Choose your favorite player who had at least 500 plate appearances in 2018. How would you determine if he had a statistically significant percentage of strike outs with runners on second and third and no outs than he did with bases empty and no outs?     \n",
    "   \n",
    "   2a. What is a draw for this problem?\n",
    "   \n",
    "   2b. What is a sample?\n",
    "   \n",
    "   2c. How do you set up your simulation?\n",
    "   \n",
    "   2d. What is the Null hypothesis?\n",
    "\n",
    "3. (2 pts) Choose either problem 1 or 2 and implement it and explain the result that you get."
   ]
  },
  {
   "cell_type": "markdown",
   "metadata": {},
   "source": [
    "1a. Runs scored in one game at a park  \n",
    "1b. A sample is a number of draws for one park equal to the number of games played at Coors in a season.  \n",
    "1c. Simulation: pull the scores from every game for every park. Resample scores for Coors many times and calculate the mean each time. Do the same but for all non-Coors NL parks. Compare mean distrubtions.  \n",
    "1d. The mean number of runs scored at Coors in 2018 is no different from the mean number of runs scored at other NL parks in 2018.\n",
    "\n",
    "2a. A draw is an at-bat with runners on second and third and no outs OR an at-bat with bases empty and no outs.  \n",
    "2b. A sample is the results of a number of draws equal to the times the player came up with runners on second and third and no outs OR equal to the number of times the player came up with bases empty and no outs.  \n",
    "2c. Simulation: find all at-bats for both situations (separately). Calculate the number of ABs in each situation that resulted in a SO and the number that did not. This forms the data to draw from in each situation. The simulation process is then simple for each situation. Then compare the means.    \n",
    "2d. There is no difference between the strike out percentage in the two situations.  "
   ]
  },
  {
   "cell_type": "code",
   "execution_count": 41,
   "metadata": {},
   "outputs": [
    {
     "name": "stdout",
     "output_type": "stream",
     "text": [
      "Gathering player lookup table. This may take a moment.\n"
     ]
    },
    {
     "data": {
      "text/html": [
       "<div>\n",
       "<style scoped>\n",
       "    .dataframe tbody tr th:only-of-type {\n",
       "        vertical-align: middle;\n",
       "    }\n",
       "\n",
       "    .dataframe tbody tr th {\n",
       "        vertical-align: top;\n",
       "    }\n",
       "\n",
       "    .dataframe thead th {\n",
       "        text-align: right;\n",
       "    }\n",
       "</style>\n",
       "<table border=\"1\" class=\"dataframe\">\n",
       "  <thead>\n",
       "    <tr style=\"text-align: right;\">\n",
       "      <th></th>\n",
       "      <th>name_last</th>\n",
       "      <th>name_first</th>\n",
       "      <th>key_mlbam</th>\n",
       "      <th>key_retro</th>\n",
       "      <th>key_bbref</th>\n",
       "      <th>key_fangraphs</th>\n",
       "      <th>mlb_played_first</th>\n",
       "      <th>mlb_played_last</th>\n",
       "    </tr>\n",
       "  </thead>\n",
       "  <tbody>\n",
       "    <tr>\n",
       "      <th>0</th>\n",
       "      <td>chapman</td>\n",
       "      <td>matt</td>\n",
       "      <td>-1</td>\n",
       "      <td>NaN</td>\n",
       "      <td>NaN</td>\n",
       "      <td>-1</td>\n",
       "      <td>NaN</td>\n",
       "      <td>NaN</td>\n",
       "    </tr>\n",
       "    <tr>\n",
       "      <th>1</th>\n",
       "      <td>chapman</td>\n",
       "      <td>matt</td>\n",
       "      <td>656305</td>\n",
       "      <td>chapm001</td>\n",
       "      <td>chapmma01</td>\n",
       "      <td>16505</td>\n",
       "      <td>2017.0</td>\n",
       "      <td>2019.0</td>\n",
       "    </tr>\n",
       "  </tbody>\n",
       "</table>\n",
       "</div>"
      ],
      "text/plain": [
       "  name_last name_first  key_mlbam key_retro  key_bbref  key_fangraphs  \\\n",
       "0   chapman       matt         -1       NaN        NaN             -1   \n",
       "1   chapman       matt     656305  chapm001  chapmma01          16505   \n",
       "\n",
       "   mlb_played_first  mlb_played_last  \n",
       "0               NaN              NaN  \n",
       "1            2017.0           2019.0  "
      ]
     },
     "execution_count": 41,
     "metadata": {},
     "output_type": "execute_result"
    }
   ],
   "source": [
    "from pybaseball import playerid_lookup\n",
    "playerid_lookup(\"chapman\", \"matt\")"
   ]
  },
  {
   "cell_type": "code",
   "execution_count": 42,
   "metadata": {},
   "outputs": [
    {
     "name": "stdout",
     "output_type": "stream",
     "text": [
      "Gathering player lookup table. This may take a moment.\n"
     ]
    },
    {
     "data": {
      "text/html": [
       "<div>\n",
       "<style scoped>\n",
       "    .dataframe tbody tr th:only-of-type {\n",
       "        vertical-align: middle;\n",
       "    }\n",
       "\n",
       "    .dataframe tbody tr th {\n",
       "        vertical-align: top;\n",
       "    }\n",
       "\n",
       "    .dataframe thead th {\n",
       "        text-align: right;\n",
       "    }\n",
       "</style>\n",
       "<table border=\"1\" class=\"dataframe\">\n",
       "  <thead>\n",
       "    <tr style=\"text-align: right;\">\n",
       "      <th></th>\n",
       "      <th>name_last</th>\n",
       "      <th>name_first</th>\n",
       "      <th>key_mlbam</th>\n",
       "      <th>key_retro</th>\n",
       "      <th>key_bbref</th>\n",
       "      <th>key_fangraphs</th>\n",
       "      <th>mlb_played_first</th>\n",
       "      <th>mlb_played_last</th>\n",
       "    </tr>\n",
       "  </thead>\n",
       "  <tbody>\n",
       "    <tr>\n",
       "      <th>0</th>\n",
       "      <td>davis</td>\n",
       "      <td>khris</td>\n",
       "      <td>501981</td>\n",
       "      <td>davik003</td>\n",
       "      <td>daviskh01</td>\n",
       "      <td>9112</td>\n",
       "      <td>2013.0</td>\n",
       "      <td>2019.0</td>\n",
       "    </tr>\n",
       "  </tbody>\n",
       "</table>\n",
       "</div>"
      ],
      "text/plain": [
       "  name_last name_first  key_mlbam key_retro  key_bbref  key_fangraphs  \\\n",
       "0     davis      khris     501981  davik003  daviskh01           9112   \n",
       "\n",
       "   mlb_played_first  mlb_played_last  \n",
       "0            2013.0           2019.0  "
      ]
     },
     "execution_count": 42,
     "metadata": {},
     "output_type": "execute_result"
    }
   ],
   "source": [
    "playerid_lookup(\"davis\", \"khris\")"
   ]
  },
  {
   "cell_type": "code",
   "execution_count": 43,
   "metadata": {},
   "outputs": [
    {
     "name": "stdout",
     "output_type": "stream",
     "text": [
      "Gathering player lookup table. This may take a moment.\n"
     ]
    },
    {
     "data": {
      "text/html": [
       "<div>\n",
       "<style scoped>\n",
       "    .dataframe tbody tr th:only-of-type {\n",
       "        vertical-align: middle;\n",
       "    }\n",
       "\n",
       "    .dataframe tbody tr th {\n",
       "        vertical-align: top;\n",
       "    }\n",
       "\n",
       "    .dataframe thead th {\n",
       "        text-align: right;\n",
       "    }\n",
       "</style>\n",
       "<table border=\"1\" class=\"dataframe\">\n",
       "  <thead>\n",
       "    <tr style=\"text-align: right;\">\n",
       "      <th></th>\n",
       "      <th>name_last</th>\n",
       "      <th>name_first</th>\n",
       "      <th>key_mlbam</th>\n",
       "      <th>key_retro</th>\n",
       "      <th>key_bbref</th>\n",
       "      <th>key_fangraphs</th>\n",
       "      <th>mlb_played_first</th>\n",
       "      <th>mlb_played_last</th>\n",
       "    </tr>\n",
       "  </thead>\n",
       "  <tbody>\n",
       "    <tr>\n",
       "      <th>0</th>\n",
       "      <td>semien</td>\n",
       "      <td>marcus</td>\n",
       "      <td>543760</td>\n",
       "      <td>semim001</td>\n",
       "      <td>semiema01</td>\n",
       "      <td>12533</td>\n",
       "      <td>2013.0</td>\n",
       "      <td>2019.0</td>\n",
       "    </tr>\n",
       "  </tbody>\n",
       "</table>\n",
       "</div>"
      ],
      "text/plain": [
       "  name_last name_first  key_mlbam key_retro  key_bbref  key_fangraphs  \\\n",
       "0    semien     marcus     543760  semim001  semiema01          12533   \n",
       "\n",
       "   mlb_played_first  mlb_played_last  \n",
       "0            2013.0           2019.0  "
      ]
     },
     "execution_count": 43,
     "metadata": {},
     "output_type": "execute_result"
    }
   ],
   "source": [
    "playerid_lookup(\"semien\")"
   ]
  },
  {
   "cell_type": "code",
   "execution_count": 45,
   "metadata": {},
   "outputs": [],
   "source": [
    "import pandas as pd\n",
    "from pybaseball import batting_stats\n",
    "statcast = pd.read_csv(\"pitches_2016_2018.csv\")\n",
    "statcast = statcast.loc[(statcast[\"game_date\"] < \"2019-01-01\") & (statcast[\"game_date\"] > \"2018-01-01\")]\n",
    "b = batting_stats(2018)"
   ]
  },
  {
   "cell_type": "code",
   "execution_count": 46,
   "metadata": {},
   "outputs": [
    {
     "data": {
      "text/plain": [
       "319    632.0\n",
       "Name: AB, dtype: float64"
      ]
     },
     "execution_count": 46,
     "metadata": {},
     "output_type": "execute_result"
    }
   ],
   "source": [
    "b.loc[(b[\"Name\"] == \"Marcus Semien\")][\"AB\"]"
   ]
  },
  {
   "cell_type": "code",
   "execution_count": 47,
   "metadata": {},
   "outputs": [],
   "source": [
    "df_p = statcast.loc[(statcast[\"batter\"] == 543760)]"
   ]
  },
  {
   "cell_type": "code",
   "execution_count": 48,
   "metadata": {},
   "outputs": [],
   "source": [
    "w_runners = df_p.loc[(df_p[\"on_3b\"].notna()) &\n",
    "                     (df_p[\"on_2b\"].notna()) &\n",
    "                     (df_p[\"on_1b\"].isna()) &\n",
    "                     (df_p[\"outs_when_up\"] == 0)\n",
    "                    ].dropna(subset=[\"events\"])\n",
    "\n",
    "w_runners_so = len(w_runners.loc[w_runners[\"events\"] == \"strikeout\"])\n",
    "w_runners_notso = len(w_runners.loc[w_runners[\"events\"] != \"strikeout\"])"
   ]
  },
  {
   "cell_type": "code",
   "execution_count": 49,
   "metadata": {},
   "outputs": [],
   "source": [
    "wo_runners = df_p.loc[(df_p[\"on_3b\"].isna()) &\n",
    "                      (df_p[\"on_2b\"].isna()) &\n",
    "                      (df_p[\"on_1b\"].isna()) &\n",
    "                      (df_p[\"outs_when_up\"] == 0)\n",
    "                     ].dropna(subset=[\"events\"])\n",
    "\n",
    "wo_runners_so = len(wo_runners.loc[wo_runners[\"events\"] == \"strikeout\"])\n",
    "wo_runners_notso = len(wo_runners.loc[wo_runners[\"events\"] != \"strikeout\"])"
   ]
  },
  {
   "cell_type": "code",
   "execution_count": 50,
   "metadata": {},
   "outputs": [],
   "source": [
    "# 1 if draw returned SO\n",
    "def draw_w_runners():\n",
    "    x = randint(1, w_runners_so + w_runners_notso)\n",
    "    if x <= w_runners_so:\n",
    "        return 1\n",
    "    else:\n",
    "        return 0\n",
    "    \n",
    "# 1 if draw returned SO\n",
    "def draw_wo_runners():\n",
    "    x = randint(1, wo_runners_so + wo_runners_notso)\n",
    "    if x <= wo_runners_so:\n",
    "        return 1\n",
    "    else:\n",
    "        return 0"
   ]
  },
  {
   "cell_type": "code",
   "execution_count": 53,
   "metadata": {},
   "outputs": [],
   "source": [
    "def get_sample_w_runners():\n",
    "    return [draw_w_runners() for _ in range(w_runners_so + w_runners_notso)]\n",
    "\n",
    "def get_sample_wo_runners():\n",
    "    return [draw_wo_runners() for _ in range(wo_runners_so + wo_runners_notso)]"
   ]
  },
  {
   "cell_type": "code",
   "execution_count": 87,
   "metadata": {},
   "outputs": [],
   "source": [
    "import numpy as np\n",
    "def bootstrap_mean_w(trials=10000):\n",
    "    t = np.zeros(trials)\n",
    "    for i in range(trials):\n",
    "        t[i] = np.mean(get_sample_w_runners())\n",
    "    return t\n",
    "\n",
    "def bootstrap_mean_wo(trials=10000):\n",
    "    t = np.zeros(trials)\n",
    "    for i in range(trials):\n",
    "        t[i] = np.mean(get_sample_wo_runners())\n",
    "    return t"
   ]
  },
  {
   "cell_type": "code",
   "execution_count": 91,
   "metadata": {},
   "outputs": [],
   "source": [
    "trials = 10000\n",
    "w_runners_sorate_means = bootstrap_mean_w(trials)\n",
    "wo_runners_sorate_means = bootstrap_mean_wo(trials)"
   ]
  },
  {
   "cell_type": "code",
   "execution_count": 82,
   "metadata": {},
   "outputs": [],
   "source": [
    "from scipy.stats import ttest_ind"
   ]
  },
  {
   "cell_type": "code",
   "execution_count": 93,
   "metadata": {},
   "outputs": [
    {
     "data": {
      "text/plain": [
       "Ttest_indResult(statistic=-16.0119040215061, pvalue=2.3987601300868855e-57)"
      ]
     },
     "execution_count": 93,
     "metadata": {},
     "output_type": "execute_result"
    }
   ],
   "source": [
    "ttest_ind(w_runners_sorate_means, wo_runners_sorate_means)"
   ]
  },
  {
   "cell_type": "markdown",
   "metadata": {},
   "source": [
    "Results: the p-value and statistic suggests that there is a difference, but I'm not sure that I trust it, given how small the sample is for the runners on situation."
   ]
  }
 ],
 "metadata": {
  "kernelspec": {
   "display_name": "Python 3",
   "language": "python",
   "name": "python3"
  },
  "language_info": {
   "codemirror_mode": {
    "name": "ipython",
    "version": 3
   },
   "file_extension": ".py",
   "mimetype": "text/x-python",
   "name": "python",
   "nbconvert_exporter": "python",
   "pygments_lexer": "ipython3",
   "version": "3.7.3"
  }
 },
 "nbformat": 4,
 "nbformat_minor": 2
}
