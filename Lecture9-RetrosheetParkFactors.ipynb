{
 "cells": [
  {
   "cell_type": "markdown",
   "metadata": {},
   "source": [
    "Note: this is an in-class exercise, but to get full points, all questions need to be completed correctly. It's due before class on Monday.\n",
    "\n",
    "Name: Michael Dresser\n",
    "\n",
    "# Retrosheet and back to park factors#\n",
    "Retrosheet is another database of game data that goes back to 1950 or so. Every event in every game is available in the retrosheet database. Retrosheet provides the pitch sequence data, but not the location of the pitch that you get in statcast.\n",
    "\n",
    "<a href=\"https://www.retrosheet.org/\">Retrosheet</a>\n",
    "\n",
    "Since we have statcast, we don't neeed to get into the retrosheet play-by-play data, but the game logs will help us answer questions individual games, such as number of hits, walks, and score.\n",
    "\n",
    "In the retrosheet documentation in pybaseball, you can find a few examples for how to call retrosheet. \n",
    "\n",
    "<a href=\"https://www.retrosheet.org/gamelogs/glfields.txt\">Retrosheet game logs documentation</a>\n",
    "\n",
    "This call gets the logs for every game in 2018 and prints the column headers."
   ]
  },
  {
   "cell_type": "code",
   "execution_count": 91,
   "metadata": {},
   "outputs": [
    {
     "name": "stdout",
     "output_type": "stream",
     "text": [
      "['date', 'game_num', 'day_of_week', 'visiting_team', 'visiting_team_league', 'visiting_game_num', 'home_team', 'home_team_league', 'home_team_game_num', 'visiting_score', 'home_score', 'num_outs', 'day_night', 'completion_info', 'forfeit_info', 'protest_info', 'park_id', 'attendance', 'time_of_game_minutes', 'visiting_line_score', 'home_line_score', 'visiting_abs', 'visiting_hits', 'visiting_doubles', 'visiting_triples', 'visiting_homeruns', 'visiting_rbi', 'visiting_sac_hits', 'visiting_sac_flies', 'visiting_hbp', 'visiting_bb', 'visiting_iw', 'visiting_k', 'visiting_sb', 'visiting_cs', 'visiting_gdp', 'visiting_ci', 'visiting_lob', 'visiting_pitchers_used', 'visiting_individual_er', 'visiting_er', 'visiting__wp', 'visiting_balks', 'visiting_po', 'visiting_assists', 'visiting_errors', 'visiting_pb', 'visiting_dp', 'visiting_tp', 'home_abs', 'home_hits', 'home_doubles', 'home_triples', 'home_homeruns', 'home_rbi', 'home_sac_hits', 'home_sac_flies', 'home_hbp', 'home_bb', 'home_iw', 'home_k', 'home_sb', 'home_cs', 'home_gdp', 'home_ci', 'home_lob', 'home_pitchers_used', 'home_individual_er', 'home_er', 'home_wp', 'home_balks', 'home_po', 'home_assists', 'home_errors', 'home_pb', 'home_dp', 'home_tp', 'ump_home_id', 'ump_home_name', 'ump_first_id', 'ump_first_name', 'ump_second_id', 'ump_second_name', 'ump_third_id', 'ump_third_name', 'ump_lf_id', 'ump_lf_name', 'ump_rf_id', 'ump_rf_name', 'visiting_manager_id', 'visiting_manager_name', 'home_manager_id', 'home_manager_name', 'winning_pitcher_id', 'winning_pitcher_name', 'losing_pitcher_id', 'losing_pitcher_name', 'save_pitcher_id', 'save_pitcher_name', 'game_winning_rbi_id', 'game_winning_rbi_name', 'visiting_starting_pitcher_id', 'visiting_starting_pitcher_name', 'home_starting_pitcher_id', 'home_starting_pitcher_name', 'visiting_1_id', 'visiting_1_name', 'visiting_1_pos', 'visiting_2_id', 'visiting_2_name', 'visiting_2_pos', 'visiting_2_id.1', 'visiting_3_name', 'visiting_3_pos', 'visiting_4_id', 'visiting_4_name', 'visiting_4_pos', 'visiting_5_id', 'visiting_5_name', 'visiting_5_pos', 'visiting_6_id', 'visiting_6_name', 'visiting_6_pos', 'visiting_7_id', 'visiting_7_name', 'visiting_7_pos', 'visiting_8_id', 'visiting_8_name', 'visiting_8_pos', 'visiting_9_id', 'visiting_9_name', 'visiting_9_pos', 'home_1_id', 'home_1_name', 'home_1_pos', 'home_2_id', 'home_2_name', 'home_2_pos', 'home_3_id', 'home_3_name', 'home_3_pos', 'home_4_id', 'home_4_name', 'home_4_pos', 'home_5_id', 'home_5_name', 'home_5_pos', 'home_6_id', 'home_6_name', 'home_6_pos', 'home_7_id', 'home_7_name', 'home_7_pos', 'home_8_id', 'home_8_name', 'home_8_pos', 'home_9_id', 'home_9_name', 'home_9_pos', 'misc', 'acquisition_info']\n"
     ]
    }
   ],
   "source": [
    "from pybaseball.retrosheet import *\n",
    "games = season_game_logs(2018)\n",
    "print(list(games))"
   ]
  },
  {
   "cell_type": "markdown",
   "metadata": {},
   "source": [
    "I'll print one game to show the individual values."
   ]
  },
  {
   "cell_type": "code",
   "execution_count": 92,
   "metadata": {},
   "outputs": [
    {
     "name": "stdout",
     "output_type": "stream",
     "text": [
      "date                            20180329\n",
      "game_num                               0\n",
      "day_of_week                          Thu\n",
      "visiting_team                        COL\n",
      "visiting_team_league                  NL\n",
      "visiting_game_num                      1\n",
      "home_team                            ARI\n",
      "home_team_league                      NL\n",
      "home_team_game_num                     1\n",
      "visiting_score                         2\n",
      "home_score                             8\n",
      "num_outs                              51\n",
      "day_night                              N\n",
      "completion_info                      NaN\n",
      "forfeit_info                         NaN\n",
      "protest_info                         NaN\n",
      "park_id                            PHO01\n",
      "attendance                         48703\n",
      "time_of_game_minutes                 216\n",
      "visiting_line_score            100001000\n",
      "home_line_score                30000320x\n",
      "visiting_abs                          33\n",
      "visiting_hits                          9\n",
      "visiting_doubles                       0\n",
      "visiting_triples                       0\n",
      "visiting_homeruns                      2\n",
      "visiting_rbi                           2\n",
      "visiting_sac_hits                      1\n",
      "visiting_sac_flies                     0\n",
      "visiting_hbp                           0\n",
      "                              ...       \n",
      "visiting_9_pos                         1\n",
      "home_1_id                       perad001\n",
      "home_1_name                David Peralta\n",
      "home_1_pos                             7\n",
      "home_2_id                       polla001\n",
      "home_2_name                 A.J. Pollock\n",
      "home_2_pos                             8\n",
      "home_3_id                       goldp001\n",
      "home_3_name             Paul Goldschmidt\n",
      "home_3_pos                             3\n",
      "home_4_id                       lambj001\n",
      "home_4_name                    Jake Lamb\n",
      "home_4_pos                             5\n",
      "home_5_id                       martk001\n",
      "home_5_name                  Ketel Marte\n",
      "home_5_pos                             4\n",
      "home_6_id                       avila001\n",
      "home_6_name                   Alex Avila\n",
      "home_6_pos                             2\n",
      "home_7_id                       ahmen001\n",
      "home_7_name                   Nick Ahmed\n",
      "home_7_pos                             6\n",
      "home_8_id                       dysoj001\n",
      "home_8_name                 Jarrod Dyson\n",
      "home_8_pos                             9\n",
      "home_9_id                       corbp001\n",
      "home_9_name               Patrick Corbin\n",
      "home_9_pos                             1\n",
      "misc                                 NaN\n",
      "acquisition_info                       Y\n",
      "Name: 0, Length: 161, dtype: object\n"
     ]
    }
   ],
   "source": [
    "print(games.iloc[0])"
   ]
  },
  {
   "cell_type": "markdown",
   "metadata": {},
   "source": [
    "1. (1 pt) Generate two dataframes from the 2018 data: one with games where COL was the home team and another with games where COL was the visiting team."
   ]
  },
  {
   "cell_type": "code",
   "execution_count": 93,
   "metadata": {},
   "outputs": [],
   "source": [
    "#games_2018 = games.loc[(games[\"date\"] >= 20180000) & (games[\"date\"] < 20190000)]\n",
    "col_home = games.loc[(games[\"home_team\"] == \"COL\")]\n",
    "col_away = games.loc[(games[\"visiting_team\"] == \"COL\")]"
   ]
  },
  {
   "cell_type": "markdown",
   "metadata": {},
   "source": [
    "2. (2 pts) What is the park factor for Coors Field for OBP in 2018? \n",
    "\n",
    "**On-base percentage (OBP)** - captures how frequently a player gets on base by a hit, walk, or getting hit by the pitch. \n",
    "\n",
    "$$OBP=\\frac{H+BB+HBP}{PA}$$\n",
    "\n",
    "where PA = AB + BB + HBP + SH + SF"
   ]
  },
  {
   "cell_type": "code",
   "execution_count": 94,
   "metadata": {},
   "outputs": [
    {
     "data": {
      "text/plain": [
       "1.1182057038742377"
      ]
     },
     "execution_count": 94,
     "metadata": {},
     "output_type": "execute_result"
    }
   ],
   "source": [
    "hits_home = col_home[\"home_hits\"].sum() + col_home[\"visiting_hits\"].sum()\n",
    "hits_away = col_away[\"home_hits\"].sum() + col_away[\"visiting_hits\"].sum()\n",
    "bb_home = col_home[\"home_bb\"].sum() + col_home[\"visiting_bb\"].sum()\n",
    "bb_away = col_away[\"home_bb\"].sum() + col_away[\"visiting_bb\"].sum()\n",
    "hbp_home = col_home[\"home_hbp\"].sum() + col_home[\"visiting_bb\"].sum()\n",
    "hbp_away = col_away[\"home_hbp\"].sum() + col_away[\"visiting_bb\"].sum()\n",
    "ab_home = col_home[\"home_abs\"].sum() + col_home[\"visiting_abs\"].sum()\n",
    "ab_away = col_away[\"home_abs\"].sum() + col_away[\"visiting_abs\"].sum()\n",
    "sac_home = col_home[\"home_sac_flies\"].sum() + col_home[\"visiting_sac_flies\"].sum()\n",
    "sac_away = col_away[\"home_sac_flies\"].sum() + col_away[\"visiting_sac_flies\"].sum()\n",
    "\n",
    "pa_home = ab_home + bb_home + hbp_home + sac_home\n",
    "pa_away = ab_away + bb_away + hbp_away + sac_away\n",
    "\n",
    "obp_home = (hits_home + bb_home + hbp_home) / pa_home\n",
    "obp_away = (hits_away + bb_away + hbp_away) / pa_away\n",
    "\n",
    "obp_home / obp_away"
   ]
  },
  {
   "cell_type": "markdown",
   "metadata": {},
   "source": [
    "3. (3 pts) In 2013, the San Diego Padres decided to move the fences in at Petco Park after years of hitters complaining that it was impossible to hit there. \n",
    "\n",
    "According to one article, \"It took six games and 173 at-bats for the Padres to hit their first homer at the new ballpark; during this stretch, a livid Klesko threw an absolute fit in the dugout after what might have been a two-homer night at Qualcomm Stadium became a double and a long fly out at Petco.\"\n",
    "\n",
    "<a href=\"http://www.thisgreatgame.com/ballparks-petco-park.html\">The history of Petco Park</a>\n",
    "\n",
    "\n",
    "Many people thought that the fences would never be moved under any circumstances. Eventually they were, and like any decision in baseball, the effect of the change is hard to measure, not linear, and not necessarily statistically significant across all players. \n",
    "\n",
    "<a href=\"https://www.beyondtheboxscore.com/2016/1/19/10787848/petco-park-padres-not-pitcher-friendly-anymore-right-field-fence-move\">Is Petco Park still a pitcher's park?</a>\n",
    "\n",
    "Was there a change in the park factor for OBP and Runs Per Game as a result of the new fences? Compare the five years prior to 2013 to the five years since."
   ]
  },
  {
   "cell_type": "code",
   "execution_count": 95,
   "metadata": {},
   "outputs": [],
   "source": [
    "import pandas as pd\n",
    "\n",
    "games_2008 = season_game_logs(2008)\n",
    "games_2009 = season_game_logs(2009)\n",
    "games_2010 = season_game_logs(2010)\n",
    "games_2011 = season_game_logs(2011)\n",
    "games_2012 = season_game_logs(2012)\n",
    "\n",
    "games_2014 = season_game_logs(2014)\n",
    "games_2015 = season_game_logs(2015)\n",
    "games_2016 = season_game_logs(2016)\n",
    "games_2017 = season_game_logs(2017)\n",
    "games_2018 = season_game_logs(2018)\n",
    "\n",
    "games_pre = pd.concat([games_2008, games_2009, games_2010, games_2011, games_2012])\n",
    "games_post = pd.concat([games_2014, games_2015, games_2016, games_2017, games_2018])"
   ]
  },
  {
   "cell_type": "code",
   "execution_count": 96,
   "metadata": {},
   "outputs": [],
   "source": [
    "padres_pre_home = games_pre.loc[games_pre[\"home_team\"] == \"SDN\"]\n",
    "padres_pre_away = games_pre.loc[games_pre[\"visiting_team\"] == \"SDN\"]\n",
    "padres_post_home = games_post.loc[games_post[\"home_team\"] == \"SDN\"]\n",
    "padres_post_away = games_post.loc[games_post[\"visiting_team\"] == \"SDN\"]"
   ]
  },
  {
   "cell_type": "code",
   "execution_count": 97,
   "metadata": {},
   "outputs": [],
   "source": [
    "def calc_rpg_factor(home, away):\n",
    "    runs_home = (home[\"home_score\"] + home[\"visiting_score\"]).mean()\n",
    "    runs_away = (away[\"home_score\"] + away[\"visiting_score\"]).mean()\n",
    "    \n",
    "    return runs_home / runs_away\n",
    "\n",
    "def calc_obp_factor(home, away):\n",
    "    hits_home = home[\"home_hits\"].sum() + home[\"visiting_hits\"].sum()\n",
    "    hits_away = away[\"home_hits\"].sum() + away[\"visiting_hits\"].sum()\n",
    "    bb_home = home[\"home_bb\"].sum() + home[\"visiting_bb\"].sum()\n",
    "    bb_away = away[\"home_bb\"].sum() + away[\"visiting_bb\"].sum()\n",
    "    hbp_home = home[\"home_hbp\"].sum() + home[\"visiting_bb\"].sum()\n",
    "    hbp_away = away[\"home_hbp\"].sum() + away[\"visiting_bb\"].sum()\n",
    "    ab_home = home[\"home_abs\"].sum() + home[\"visiting_abs\"].sum()\n",
    "    ab_away = away[\"home_abs\"].sum() + away[\"visiting_abs\"].sum()\n",
    "    sac_home = home[\"home_sac_flies\"].sum() + home[\"visiting_sac_flies\"].sum()\n",
    "    sac_away = away[\"home_sac_flies\"].sum() + away[\"visiting_sac_flies\"].sum()\n",
    "\n",
    "    pa_home = ab_home + bb_home + hbp_home + sac_home\n",
    "    pa_away = ab_away + bb_away + hbp_away + sac_away\n",
    "\n",
    "    obp_home = (hits_home + bb_home + hbp_home) / pa_home\n",
    "    obp_away = (hits_away + bb_away + hbp_away) / pa_away\n",
    "\n",
    "    return obp_home / obp_away"
   ]
  },
  {
   "cell_type": "code",
   "execution_count": 98,
   "metadata": {},
   "outputs": [
    {
     "name": "stdout",
     "output_type": "stream",
     "text": [
      "RPG Factor 2008-2012: 0.8154141524958859\n",
      "RPG Factor 2014-2018: 0.9266761768901569\n",
      "OBP Factor 2008-2012: 0.955833338144399\n",
      "OBP Factor 2014-2018: 0.9977269913240185\n"
     ]
    }
   ],
   "source": [
    "rpg_pre = calc_rpg_factor(padres_pre_home, padres_pre_away)\n",
    "rpg_post = calc_rpg_factor(padres_post_home, padres_post_away)\n",
    "obp_pre = calc_obp_factor(padres_pre_home, padres_pre_away)\n",
    "obp_post = calc_obp_factor(padres_post_home, padres_post_away)\n",
    "\n",
    "print(\"RPG Factor 2008-2012: %s\" % rpg_pre)\n",
    "print(\"RPG Factor 2014-2018: %s\" % rpg_post)\n",
    "print(\"OBP Factor 2008-2012: %s\" % obp_pre)\n",
    "print(\"OBP Factor 2014-2018: %s\" % obp_post)"
   ]
  },
  {
   "cell_type": "markdown",
   "metadata": {},
   "source": [
    "4. (4 pts) In 1997, Colorado Rockies star Larry Walker won the League MVP award. However, there's an argument that Mike Piazza, catcher for the Los Angeles Dodgers should have won it. The MVP typically goes to players who help their team offensively. They also need to be solid defensively, but without gaudy offensive numbers, a player doesn't win the MVP. Walker played half of his games at Coors Field, which we already know is a hitter's paradise, and Piazza played half of his games at Dodgers Stadium, which is a more neutral park. How much did each player's home park affect their stats? Is there a case that Piazza actually deserved the MVP?"
   ]
  },
  {
   "cell_type": "code",
   "execution_count": 99,
   "metadata": {},
   "outputs": [],
   "source": [
    "games_1997 = season_game_logs(1997)\n",
    "\n",
    "col_home = games_1997.loc[games_1997[\"home_team\"] == \"COL\"]\n",
    "col_away = games_1997.loc[games_1997[\"visiting_team\"] == \"COL\"]\n",
    "lad_home = games_1997.loc[games_1997[\"home_team\"] == \"LAN\"]\n",
    "lad_away = games_1997.loc[games_1997[\"visiting_team\"] == \"LAN\"]"
   ]
  },
  {
   "cell_type": "code",
   "execution_count": 100,
   "metadata": {},
   "outputs": [],
   "source": [
    "def calc_slg_factor(home, away):\n",
    "    ab_home = home[\"home_abs\"].sum() + home[\"visiting_abs\"].sum()\n",
    "    ab_away = away[\"home_abs\"].sum() + away[\"visiting_abs\"].sum()\n",
    "    \n",
    "    hits_home = home[\"home_hits\"].sum() + home[\"visiting_hits\"].sum()\n",
    "    hits_away = away[\"home_hits\"].sum() + away[\"visiting_hits\"].sum()\n",
    "    \n",
    "    doubles_home = home[\"home_doubles\"].sum() + home[\"visiting_doubles\"].sum()\n",
    "    doubles_away = away[\"home_doubles\"].sum() + away[\"visiting_doubles\"].sum()\n",
    "    \n",
    "    triples_home = home[\"home_triples\"].sum() + home[\"visiting_triples\"].sum()\n",
    "    triples_away = away[\"home_triples\"].sum() + away[\"visiting_triples\"].sum()\n",
    "    \n",
    "    hr_home = home[\"home_homeruns\"].sum() + home[\"visiting_homeruns\"].sum()\n",
    "    hr_away = away[\"home_homeruns\"].sum() + away[\"visiting_homeruns\"].sum()\n",
    "    \n",
    "    singles_home = hits_home - hr_home - triples_home - doubles_home\n",
    "    singles_away = hits_away - hr_away - triples_away - doubles_away\n",
    "    \n",
    "    slg_home = (singles_home + 2*doubles_home + 3*triples_home + 4*hr_home) / ab_home\n",
    "    slg_away = (singles_away + 2*doubles_away + 3*triples_away + 4*hr_away) / ab_away\n",
    "\n",
    "    return slg_home / slg_away"
   ]
  },
  {
   "cell_type": "code",
   "execution_count": 101,
   "metadata": {},
   "outputs": [],
   "source": [
    "col_obp_factor = calc_obp_factor(col_home, col_away)\n",
    "lad_obp_factor = calc_obp_factor(lad_home, lad_away)\n",
    "col_slg_factor = calc_slg_factor(col_home, col_away)\n",
    "lad_slg_factor = calc_slg_factor(lad_home, lad_away)"
   ]
  },
  {
   "cell_type": "code",
   "execution_count": 102,
   "metadata": {},
   "outputs": [
    {
     "name": "stdout",
     "output_type": "stream",
     "text": [
      "Gathering player lookup table. This may take a moment.\n",
      "Gathering player lookup table. This may take a moment.\n"
     ]
    }
   ],
   "source": [
    "from pybaseball import playerid_lookup\n",
    "\n",
    "piazza = playerid_lookup(\"Piazza\", \"Mike\")\n",
    "piazza = piazza.loc[piazza[\"key_bbref\"].notna()].iloc[0]\n",
    "\n",
    "walker = playerid_lookup(\"Walker\", \"Larry\")\n",
    "walker = walker.loc[walker[\"key_bbref\"].notna()].iloc[0]"
   ]
  },
  {
   "cell_type": "code",
   "execution_count": 103,
   "metadata": {},
   "outputs": [],
   "source": [
    "import pybaseball.lahman as lahman\n",
    "\n",
    "batting = lahman.batting()\n",
    "batting_1997 = batting.loc[(batting[\"yearID\"] == 1997)]"
   ]
  },
  {
   "cell_type": "code",
   "execution_count": 104,
   "metadata": {},
   "outputs": [],
   "source": [
    "piazza_1997 = batting_1997.loc[(batting_1997[\"playerID\"] == piazza[\"key_bbref\"])].iloc[0].copy()\n",
    "walker_1997 = batting_1997.loc[(batting_1997[\"playerID\"] == walker[\"key_bbref\"])].iloc[0].copy()\n",
    "piazza_1997[\"1B\"] = piazza_1997[\"H\"] - piazza_1997[\"2B\"] - piazza_1997[\"3B\"] - piazza_1997[\"HR\"]\n",
    "walker_1997[\"1B\"] = walker_1997[\"H\"] - piazza_1997[\"2B\"] - piazza_1997[\"3B\"] - piazza_1997[\"HR\"]"
   ]
  },
  {
   "cell_type": "code",
   "execution_count": 106,
   "metadata": {},
   "outputs": [],
   "source": [
    "piazza_obp = (piazza_1997[\"H\"] + piazza_1997[\"BB\"] + piazza_1997[\"HBP\"]) / \\\n",
    "             (piazza_1997[\"AB\"] + piazza_1997[\"BB\"] + piazza_1997[\"HBP\"] + piazza_1997[\"SF\"])\n",
    "piazza_slg = (piazza_1997[\"1B\"] + 2*piazza_1997[\"2B\"] + 3*piazza_1997[\"3B\"] + 4*piazza_1997[\"HR\"]) / piazza_1997[\"AB\"]"
   ]
  },
  {
   "cell_type": "code",
   "execution_count": 107,
   "metadata": {},
   "outputs": [],
   "source": [
    "walker_obp = (walker_1997[\"H\"] + walker_1997[\"BB\"] + walker_1997[\"HBP\"]) / \\\n",
    "             (walker_1997[\"AB\"] + walker_1997[\"BB\"] + walker_1997[\"HBP\"] + walker_1997[\"SF\"])\n",
    "walker_slg = (walker_1997[\"1B\"] + 2*walker_1997[\"2B\"] + 3*walker_1997[\"3B\"] + 4*walker_1997[\"HR\"]) / walker_1997[\"AB\"]"
   ]
  },
  {
   "cell_type": "code",
   "execution_count": 109,
   "metadata": {},
   "outputs": [],
   "source": [
    "# gets the scale to apply to a player's stat based on their home stadium\n",
    "def get_scale(factor):\n",
    "    return 1 - (1 - (1 / factor)) / 2\n",
    "\n",
    "col_obp_scale = get_scale(col_obp_factor)\n",
    "lad_obp_scale = get_scale(lad_obp_factor)\n",
    "col_slg_scale = get_scale(col_slg_factor)\n",
    "lad_slg_scale = get_scale(lad_slg_factor)"
   ]
  },
  {
   "cell_type": "code",
   "execution_count": 110,
   "metadata": {},
   "outputs": [
    {
     "name": "stdout",
     "output_type": "stream",
     "text": [
      "Piazza OBP scaled: 0.446023188682631\n",
      "Walker OBP scaled: 0.4337188228450375\n",
      "Piazza SLG scaled: 0.6749626000699199\n",
      "Walker SLG scaled: 0.7067165318146251\n"
     ]
    }
   ],
   "source": [
    "piazza_obp_scaled = piazza_obp * lad_obp_scale\n",
    "piazza_slg_scaled = piazza_slg * lad_slg_scale\n",
    "walker_obp_scaled = walker_obp * col_obp_scale\n",
    "walker_slg_scaled = walker_slg * col_slg_scale\n",
    "\n",
    "print(\"Piazza OBP scaled: %s\" % piazza_obp_scaled)\n",
    "print(\"Walker OBP scaled: %s\" % walker_obp_scaled)\n",
    "print(\"Piazza SLG scaled: %s\" % piazza_slg_scaled)\n",
    "print(\"Walker SLG scaled: %s\" % walker_slg_scaled)"
   ]
  },
  {
   "cell_type": "markdown",
   "metadata": {},
   "source": [
    "Based on OBP and SLG adjusted for home park factor, Piazza has an ever-so-slight edge in OBP but Walker has an only slightly larger edge in SLG. They are close enough that either player could have been chosen as MVP, although this only considers OBP and SLG."
   ]
  }
 ],
 "metadata": {
  "kernelspec": {
   "display_name": "Python 3",
   "language": "python",
   "name": "python3"
  },
  "language_info": {
   "codemirror_mode": {
    "name": "ipython",
    "version": 3
   },
   "file_extension": ".py",
   "mimetype": "text/x-python",
   "name": "python",
   "nbconvert_exporter": "python",
   "pygments_lexer": "ipython3",
   "version": "3.7.2"
  }
 },
 "nbformat": 4,
 "nbformat_minor": 2
}
